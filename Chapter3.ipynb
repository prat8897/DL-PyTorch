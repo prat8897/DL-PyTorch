{
  "nbformat": 4,
  "nbformat_minor": 0,
  "metadata": {
    "colab": {
      "name": "Chapter3.ipynb",
      "provenance": [],
      "collapsed_sections": [
        "hyFTafKTD09x",
        "zyURq634FG6w",
        "M-yQO6oQFZGR",
        "198nHSu-IUVb"
      ],
      "authorship_tag": "ABX9TyPJBHOhJWbOEV/w9uK+DwOz",
      "include_colab_link": true
    },
    "kernelspec": {
      "name": "python3",
      "display_name": "Python 3"
    }
  },
  "cells": [
    {
      "cell_type": "markdown",
      "metadata": {
        "id": "view-in-github",
        "colab_type": "text"
      },
      "source": [
        "<a href=\"https://colab.research.google.com/github/prat8897/DL_PyTorch/blob/master/Chapter3.ipynb\" target=\"_parent\"><img src=\"https://colab.research.google.com/assets/colab-badge.svg\" alt=\"Open In Colab\"/></a>"
      ]
    },
    {
      "cell_type": "markdown",
      "metadata": {
        "id": "gRKm8CKW-7nH",
        "colab_type": "text"
      },
      "source": [
        "This chapter covers\n",
        "- Understanding tensors, the basic data structure in PyTorch\n",
        "- Indexing and operating on tensors\n",
        "- Interoperating with NumPy multidimensional\n",
        "arrays\n",
        "- Moving computations to the GPU for speed"
      ]
    },
    {
      "cell_type": "markdown",
      "metadata": {
        "id": "ytAfWK3k_n9E",
        "colab_type": "text"
      },
      "source": [
        "Deep learning really consists of building a system that can transform data from one representation to another.\n",
        "\n",
        "In the context of deep learning, *tensors* refer to the generalization of vectors and matrices to an arbitrary number of dimensions. Another name for the same concept is *multidimensional array*. The dimensionality of a tensor coincides with the number of indexes used to refer to scalar values within the tensor.\n",
        "\n",
        "PyTorch features seamless interoperability with NumPy, which brings with it first-class integration with the rest of the scientific libraries in Python, such as SciPy (www.scipy.org), Scikit-learn (https://scikit-learn .org), and Pandas (https://pandas.pydata.org).\n",
        "\n",
        "Compared to NumPy arrays, PyTorch tensors have a few superpowers, such as the ability to perform very fast operations on graphical processing units (GPUs), distribute operations on multiple devices or machines, and keep track of the graph of computations that created them. These are all important features when implementing a modern deep learning library."
      ]
    },
    {
      "cell_type": "markdown",
      "metadata": {
        "id": "hyFTafKTD09x",
        "colab_type": "text"
      },
      "source": [
        "## From Python lists to PyTorch tensors\n",
        "\n",
        "Let’s see list indexing in action so we can compare it to tensor indexing. Take a list of three numbers in Python ([code/p1ch3/1_tensors.ipynb](https://github.com/deep-learning-with-pytorch/dlwpt-code/blob/master/p1ch3/1_tensors.ipynb)):"
      ]
    },
    {
      "cell_type": "code",
      "metadata": {
        "id": "3fcu1QBk-1ix",
        "colab_type": "code",
        "colab": {}
      },
      "source": [
        "a = [1.0, 2.0, 1.0]"
      ],
      "execution_count": 38,
      "outputs": []
    },
    {
      "cell_type": "markdown",
      "metadata": {
        "id": "--7xmWvpEFwg",
        "colab_type": "text"
      },
      "source": [
        "We can access the first element of the list using the corresponding zero-based index:\n"
      ]
    },
    {
      "cell_type": "code",
      "metadata": {
        "id": "sR7wlyVqED-7",
        "colab_type": "code",
        "colab": {
          "base_uri": "https://localhost:8080/",
          "height": 34
        },
        "outputId": "43126e64-2c42-4143-c565-6c9655d60607"
      },
      "source": [
        "a[0]"
      ],
      "execution_count": 39,
      "outputs": [
        {
          "output_type": "execute_result",
          "data": {
            "text/plain": [
              "1.0"
            ]
          },
          "metadata": {
            "tags": []
          },
          "execution_count": 39
        }
      ]
    },
    {
      "cell_type": "code",
      "metadata": {
        "id": "ZA3b4gPVEJNs",
        "colab_type": "code",
        "colab": {
          "base_uri": "https://localhost:8080/",
          "height": 34
        },
        "outputId": "95df8d28-37d6-42ad-f771-536fa5441d09"
      },
      "source": [
        "a[2] = 3.0\n",
        "a"
      ],
      "execution_count": 40,
      "outputs": [
        {
          "output_type": "execute_result",
          "data": {
            "text/plain": [
              "[1.0, 2.0, 3.0]"
            ]
          },
          "metadata": {
            "tags": []
          },
          "execution_count": 40
        }
      ]
    },
    {
      "cell_type": "markdown",
      "metadata": {
        "id": "zGgzVPeqEXig",
        "colab_type": "text"
      },
      "source": [
        "It is not unusual for simple Python programs dealing with vectors of numbers, such as the coordinates of a 2D line, to use Python lists to store the vectors. As we will see in the following chapter, using the more efficient tensor data structure, many types of data—from images to time series, and even sentences—can be represented. By defining operations over tensors, some of which we’ll explore in this chapter, we can slice and manipulate data expressively and efficiently at the same time, even from a high- level (and not particularly fast) language such as Python."
      ]
    },
    {
      "cell_type": "markdown",
      "metadata": {
        "id": "zyURq634FG6w",
        "colab_type": "text"
      },
      "source": [
        "## Constructing Our First Tensors"
      ]
    },
    {
      "cell_type": "code",
      "metadata": {
        "id": "dxI92sXzEIpp",
        "colab_type": "code",
        "colab": {
          "base_uri": "https://localhost:8080/",
          "height": 34
        },
        "outputId": "8855b790-0681-4874-bf96-f2a5537f5b24"
      },
      "source": [
        "import torch #imports torch module\n",
        "\n",
        "a = torch.ones(3) #Creates a 1-dimensional tensor with size 3, filled with 1s\n",
        "a"
      ],
      "execution_count": 41,
      "outputs": [
        {
          "output_type": "execute_result",
          "data": {
            "text/plain": [
              "tensor([1., 1., 1.])"
            ]
          },
          "metadata": {
            "tags": []
          },
          "execution_count": 41
        }
      ]
    },
    {
      "cell_type": "code",
      "metadata": {
        "id": "0HMJdpmPEuIr",
        "colab_type": "code",
        "colab": {
          "base_uri": "https://localhost:8080/",
          "height": 34
        },
        "outputId": "5dedac3f-3d62-417d-8082-4da6f69a825c"
      },
      "source": [
        "a[1]"
      ],
      "execution_count": 42,
      "outputs": [
        {
          "output_type": "execute_result",
          "data": {
            "text/plain": [
              "tensor(1.)"
            ]
          },
          "metadata": {
            "tags": []
          },
          "execution_count": 42
        }
      ]
    },
    {
      "cell_type": "code",
      "metadata": {
        "id": "-uww08GnEyaj",
        "colab_type": "code",
        "colab": {
          "base_uri": "https://localhost:8080/",
          "height": 34
        },
        "outputId": "b21f314c-147a-4380-a1b9-cf0055ac6b06"
      },
      "source": [
        "float(a[1])"
      ],
      "execution_count": 43,
      "outputs": [
        {
          "output_type": "execute_result",
          "data": {
            "text/plain": [
              "1.0"
            ]
          },
          "metadata": {
            "tags": []
          },
          "execution_count": 43
        }
      ]
    },
    {
      "cell_type": "code",
      "metadata": {
        "id": "LWpxyXlQE0WS",
        "colab_type": "code",
        "colab": {
          "base_uri": "https://localhost:8080/",
          "height": 34
        },
        "outputId": "d5fef200-9406-4f8e-cfb4-2f0027199a9a"
      },
      "source": [
        "a[2] = 2.0\n",
        "a"
      ],
      "execution_count": 44,
      "outputs": [
        {
          "output_type": "execute_result",
          "data": {
            "text/plain": [
              "tensor([1., 1., 2.])"
            ]
          },
          "metadata": {
            "tags": []
          },
          "execution_count": 44
        }
      ]
    },
    {
      "cell_type": "markdown",
      "metadata": {
        "id": "8bjFoXkuE8Pp",
        "colab_type": "text"
      },
      "source": [
        "After importing the `torch` module, we call a function that creates a (one-dimensional) tensor of size `3` filled with the value `1.0`. We can access an element using its zero-based index or assign a new value to it. Although on the surface this example doesn’t differ much from a list of number objects, under the hood things are completely different."
      ]
    },
    {
      "cell_type": "markdown",
      "metadata": {
        "id": "M-yQO6oQFZGR",
        "colab_type": "text"
      },
      "source": [
        "## The essence of tensors\n",
        "\n",
        "Python `lists` or `tuples` of numbers are collections of Python objects that are individually allocated in memory. PyTorch `tensors` or `NumPy arrays`, on the other hand, are views over (typically) contiguous memory blocks containing unboxed C numeric types rather than Python objects. Each element is a 32-bit (4-byte) float in this case. This means storing a 1D tensor of 1,000,000 float numbers will require exactly 4,000,000 contiguous bytes, plus a small overhead for the metadata (such as dimensions and numeric type).\n",
        "\n",
        "\n",
        "Say we have a list of coordinates we’d like to use to represent a geometrical object: perhaps a 2D triangle with vertices at coordinates `(4, 1)`, `(5, 3)`, and `(2, 1)`. The example is not particularly pertinent to deep learning, but it’s easy to follow. Instead of having coordinates as numbers in a Python list, as we did earlier, we can use a one-dimensional tensor by storing Xs in the even indices and Ys in the odd indices, like this:"
      ]
    },
    {
      "cell_type": "code",
      "metadata": {
        "id": "Qz0xa81RE3Ha",
        "colab_type": "code",
        "colab": {
          "base_uri": "https://localhost:8080/",
          "height": 34
        },
        "outputId": "a590a9fa-d0a6-48f3-ab01-1ff2b79bc3bf"
      },
      "source": [
        "points = torch.zeros(6)\n",
        "points[0] = 4.0\n",
        "points[1] = 1.0\n",
        "points[2] = 5.0\n",
        "points[3] = 3.0\n",
        "points[4] = 2.0\n",
        "points[5] = 1.0\n",
        "\n",
        "points"
      ],
      "execution_count": 45,
      "outputs": [
        {
          "output_type": "execute_result",
          "data": {
            "text/plain": [
              "tensor([4., 1., 5., 3., 2., 1.])"
            ]
          },
          "metadata": {
            "tags": []
          },
          "execution_count": 45
        }
      ]
    },
    {
      "cell_type": "markdown",
      "metadata": {
        "id": "YNWUR_7pGofr",
        "colab_type": "text"
      },
      "source": [
        "We can also pass a Python list to the constructor, to the same effect:"
      ]
    },
    {
      "cell_type": "code",
      "metadata": {
        "id": "i4FXZgRQGjz7",
        "colab_type": "code",
        "colab": {
          "base_uri": "https://localhost:8080/",
          "height": 34
        },
        "outputId": "7fc23efe-807f-4c95-b20d-65b424cb1f4c"
      },
      "source": [
        "points = torch.tensor([4.0, 1.0, 5.0, 3.0, 2.0, 1.0])\n",
        "points"
      ],
      "execution_count": 46,
      "outputs": [
        {
          "output_type": "execute_result",
          "data": {
            "text/plain": [
              "tensor([4., 1., 5., 3., 2., 1.])"
            ]
          },
          "metadata": {
            "tags": []
          },
          "execution_count": 46
        }
      ]
    },
    {
      "cell_type": "markdown",
      "metadata": {
        "id": "nr_fadz3Gt_N",
        "colab_type": "text"
      },
      "source": [
        "To get the coordinates of the first point, we do the following:"
      ]
    },
    {
      "cell_type": "code",
      "metadata": {
        "id": "ucHA-bK4Gq9C",
        "colab_type": "code",
        "colab": {
          "base_uri": "https://localhost:8080/",
          "height": 34
        },
        "outputId": "321d9e49-f722-4d0d-b9aa-3843dcdb75e0"
      },
      "source": [
        "float(points[0]), float(points[1])"
      ],
      "execution_count": 47,
      "outputs": [
        {
          "output_type": "execute_result",
          "data": {
            "text/plain": [
              "(4.0, 1.0)"
            ]
          },
          "metadata": {
            "tags": []
          },
          "execution_count": 47
        }
      ]
    },
    {
      "cell_type": "markdown",
      "metadata": {
        "id": "PeTeg9xsG14A",
        "colab_type": "text"
      },
      "source": [
        "\n",
        "This is OK, although it would be practical to have the first index refer to individual 2D points rather than point coordinates. For this, we can use a 2D tensor:"
      ]
    },
    {
      "cell_type": "code",
      "metadata": {
        "id": "bSzXYegNGvrq",
        "colab_type": "code",
        "colab": {
          "base_uri": "https://localhost:8080/",
          "height": 68
        },
        "outputId": "63fd5772-66e5-47c4-9a93-15457c79c208"
      },
      "source": [
        "points = torch.tensor([[4.0, 1.0], [5.0, 3.0], [2.0, 1.0]])\n",
        "points"
      ],
      "execution_count": 48,
      "outputs": [
        {
          "output_type": "execute_result",
          "data": {
            "text/plain": [
              "tensor([[4., 1.],\n",
              "        [5., 3.],\n",
              "        [2., 1.]])"
            ]
          },
          "metadata": {
            "tags": []
          },
          "execution_count": 48
        }
      ]
    },
    {
      "cell_type": "markdown",
      "metadata": {
        "id": "ik72ws2FG7kU",
        "colab_type": "text"
      },
      "source": [
        "Here, we pass a list of lists to the constructor. We can ask the tensor about its shape:"
      ]
    },
    {
      "cell_type": "code",
      "metadata": {
        "id": "KSZQJzy8G5eQ",
        "colab_type": "code",
        "colab": {
          "base_uri": "https://localhost:8080/",
          "height": 34
        },
        "outputId": "1fddd817-cf63-4e41-ec4e-1f08d2663c93"
      },
      "source": [
        "points.shape\n"
      ],
      "execution_count": 49,
      "outputs": [
        {
          "output_type": "execute_result",
          "data": {
            "text/plain": [
              "torch.Size([3, 2])"
            ]
          },
          "metadata": {
            "tags": []
          },
          "execution_count": 49
        }
      ]
    },
    {
      "cell_type": "markdown",
      "metadata": {
        "id": "TPAFQuAaHBlT",
        "colab_type": "text"
      },
      "source": [
        "This informs us about the size of the tensor along each dimension i.e we have 2 dimensions each for a total of 3 points.\n",
        "\n",
        "\n",
        "We could also use zeros or ones to initialize the tensor, providing the size as a tuple:"
      ]
    },
    {
      "cell_type": "code",
      "metadata": {
        "id": "dNLDOF3hG9fH",
        "colab_type": "code",
        "colab": {
          "base_uri": "https://localhost:8080/",
          "height": 68
        },
        "outputId": "1e994e62-27ea-4702-df28-25c7174e6507"
      },
      "source": [
        "points = torch.zeros(3, 2)\n",
        "points"
      ],
      "execution_count": 50,
      "outputs": [
        {
          "output_type": "execute_result",
          "data": {
            "text/plain": [
              "tensor([[0., 0.],\n",
              "        [0., 0.],\n",
              "        [0., 0.]])"
            ]
          },
          "metadata": {
            "tags": []
          },
          "execution_count": 50
        }
      ]
    },
    {
      "cell_type": "markdown",
      "metadata": {
        "id": "fLfObW_MHlsv",
        "colab_type": "text"
      },
      "source": [
        "Now we can access an individual element in the tensor using two indices:\n"
      ]
    },
    {
      "cell_type": "code",
      "metadata": {
        "id": "lKf0o2O9Hj3C",
        "colab_type": "code",
        "colab": {
          "base_uri": "https://localhost:8080/",
          "height": 68
        },
        "outputId": "fdf467f8-4ac9-481a-a1dd-4ce73279dead"
      },
      "source": [
        "points = torch.tensor([[4.0, 1.0], [5.0, 3.0], [2.0, 1.0]])\n",
        "points"
      ],
      "execution_count": 51,
      "outputs": [
        {
          "output_type": "execute_result",
          "data": {
            "text/plain": [
              "tensor([[4., 1.],\n",
              "        [5., 3.],\n",
              "        [2., 1.]])"
            ]
          },
          "metadata": {
            "tags": []
          },
          "execution_count": 51
        }
      ]
    },
    {
      "cell_type": "code",
      "metadata": {
        "id": "2H1WGIp6HoaB",
        "colab_type": "code",
        "colab": {
          "base_uri": "https://localhost:8080/",
          "height": 34
        },
        "outputId": "2c0bc75b-8f51-421a-e48a-c39fbe335d1d"
      },
      "source": [
        "points[0, 1]"
      ],
      "execution_count": 52,
      "outputs": [
        {
          "output_type": "execute_result",
          "data": {
            "text/plain": [
              "tensor(1.)"
            ]
          },
          "metadata": {
            "tags": []
          },
          "execution_count": 52
        }
      ]
    },
    {
      "cell_type": "markdown",
      "metadata": {
        "id": "Dp_T2xvKHvs8",
        "colab_type": "text"
      },
      "source": [
        "This returns the Y-coordinate of the zeroth point in our dataset. We can also access the first element in the tensor as we did before to get the 2D coordinates of the first point:"
      ]
    },
    {
      "cell_type": "code",
      "metadata": {
        "id": "RUOXeDgKHtfJ",
        "colab_type": "code",
        "colab": {
          "base_uri": "https://localhost:8080/",
          "height": 34
        },
        "outputId": "92bfb82d-74d5-40e7-cecb-a399e5e1866a"
      },
      "source": [
        "points[0]"
      ],
      "execution_count": 53,
      "outputs": [
        {
          "output_type": "execute_result",
          "data": {
            "text/plain": [
              "tensor([4., 1.])"
            ]
          },
          "metadata": {
            "tags": []
          },
          "execution_count": 53
        }
      ]
    },
    {
      "cell_type": "markdown",
      "metadata": {
        "id": "eqgC8xqxH8Mb",
        "colab_type": "text"
      },
      "source": [
        "The output is another tensor that presents a different view of the same underlying data. The new tensor is a 1D tensor of size 2, referencing the values of the first row in the points tensor. Does this mean a new chunk of memory was allocated, values were copied into it, and the new memory was returned wrapped in a new tensor object? No, because that would be very inefficient, especially if we had millions of points."
      ]
    },
    {
      "cell_type": "markdown",
      "metadata": {
        "id": "198nHSu-IUVb",
        "colab_type": "text"
      },
      "source": [
        "## Indexing tensors\n",
        "\n",
        "What if we need to obtain a tensor containing all points but the first? That’s easy using range indexing notation, which also applies to standard Python lists. Here’s a reminder:"
      ]
    },
    {
      "cell_type": "code",
      "metadata": {
        "id": "dSJqtbETH1hI",
        "colab_type": "code",
        "colab": {
          "base_uri": "https://localhost:8080/",
          "height": 34
        },
        "outputId": "fcdaf65b-e7df-4c87-ceca-e983554e635d"
      },
      "source": [
        "some_list = list(range(6))\n",
        "some_list"
      ],
      "execution_count": 54,
      "outputs": [
        {
          "output_type": "execute_result",
          "data": {
            "text/plain": [
              "[0, 1, 2, 3, 4, 5]"
            ]
          },
          "metadata": {
            "tags": []
          },
          "execution_count": 54
        }
      ]
    },
    {
      "cell_type": "code",
      "metadata": {
        "id": "TGB6FTqKIk3R",
        "colab_type": "code",
        "colab": {
          "base_uri": "https://localhost:8080/",
          "height": 34
        },
        "outputId": "ed46ccd6-efd4-415f-d783-dbfd7c7e214c"
      },
      "source": [
        "some_list[:] #All elements of the list"
      ],
      "execution_count": 55,
      "outputs": [
        {
          "output_type": "execute_result",
          "data": {
            "text/plain": [
              "[0, 1, 2, 3, 4, 5]"
            ]
          },
          "metadata": {
            "tags": []
          },
          "execution_count": 55
        }
      ]
    },
    {
      "cell_type": "code",
      "metadata": {
        "id": "QeQQYNN8Io1I",
        "colab_type": "code",
        "colab": {
          "base_uri": "https://localhost:8080/",
          "height": 34
        },
        "outputId": "958e2c9e-15a4-46c1-e43a-6fa0fb9da91e"
      },
      "source": [
        "some_list[1:4] #From element 1 inclusive to element 4 exclusive"
      ],
      "execution_count": 56,
      "outputs": [
        {
          "output_type": "execute_result",
          "data": {
            "text/plain": [
              "[1, 2, 3]"
            ]
          },
          "metadata": {
            "tags": []
          },
          "execution_count": 56
        }
      ]
    },
    {
      "cell_type": "code",
      "metadata": {
        "id": "eIPMdKoNIurX",
        "colab_type": "code",
        "colab": {
          "base_uri": "https://localhost:8080/",
          "height": 34
        },
        "outputId": "2b64fdcc-69d7-4a95-8ebc-2af83e1cec0d"
      },
      "source": [
        "some_list[1:] #From element 1 inclusive to the end of the list"
      ],
      "execution_count": 57,
      "outputs": [
        {
          "output_type": "execute_result",
          "data": {
            "text/plain": [
              "[1, 2, 3, 4, 5]"
            ]
          },
          "metadata": {
            "tags": []
          },
          "execution_count": 57
        }
      ]
    },
    {
      "cell_type": "code",
      "metadata": {
        "id": "5wZKnpxII0Q_",
        "colab_type": "code",
        "colab": {
          "base_uri": "https://localhost:8080/",
          "height": 34
        },
        "outputId": "0197e689-2e36-4605-b5b1-368dc162c24b"
      },
      "source": [
        "some_list[:4] #From the start of the list to element 4 exclusive"
      ],
      "execution_count": 58,
      "outputs": [
        {
          "output_type": "execute_result",
          "data": {
            "text/plain": [
              "[0, 1, 2, 3]"
            ]
          },
          "metadata": {
            "tags": []
          },
          "execution_count": 58
        }
      ]
    },
    {
      "cell_type": "code",
      "metadata": {
        "id": "741r0asEI5Le",
        "colab_type": "code",
        "colab": {
          "base_uri": "https://localhost:8080/",
          "height": 34
        },
        "outputId": "b9c04bb5-1708-4559-e303-03ca9f5e73d1"
      },
      "source": [
        "some_list[:-1] #From the start of the list to one before the last element"
      ],
      "execution_count": 59,
      "outputs": [
        {
          "output_type": "execute_result",
          "data": {
            "text/plain": [
              "[0, 1, 2, 3, 4]"
            ]
          },
          "metadata": {
            "tags": []
          },
          "execution_count": 59
        }
      ]
    },
    {
      "cell_type": "code",
      "metadata": {
        "id": "tUU7yXICJAgV",
        "colab_type": "code",
        "colab": {
          "base_uri": "https://localhost:8080/",
          "height": 34
        },
        "outputId": "afbef10a-00ad-4151-c942-059c7dca830a"
      },
      "source": [
        "some_list[1:4:2] #From element 1 inclusive to element 4 exclusive in steps of 2"
      ],
      "execution_count": 60,
      "outputs": [
        {
          "output_type": "execute_result",
          "data": {
            "text/plain": [
              "[1, 3]"
            ]
          },
          "metadata": {
            "tags": []
          },
          "execution_count": 60
        }
      ]
    },
    {
      "cell_type": "markdown",
      "metadata": {
        "id": "_GdGMQlsJOIw",
        "colab_type": "text"
      },
      "source": [
        "To achieve our goal (What if we need to obtain a tensor containing all points but the first?), we can use the same notation for PyTorch tensors, with the added benefit that, just as in NumPy and other Python scientific libraries, we can use range indexing for each of the tensor’s dimensions:"
      ]
    },
    {
      "cell_type": "code",
      "metadata": {
        "id": "GTkEYo8RJKkq",
        "colab_type": "code",
        "colab": {
          "base_uri": "https://localhost:8080/",
          "height": 68
        },
        "outputId": "9c53c543-f03f-4416-9453-e426cf87dd5d"
      },
      "source": [
        "points"
      ],
      "execution_count": 61,
      "outputs": [
        {
          "output_type": "execute_result",
          "data": {
            "text/plain": [
              "tensor([[4., 1.],\n",
              "        [5., 3.],\n",
              "        [2., 1.]])"
            ]
          },
          "metadata": {
            "tags": []
          },
          "execution_count": 61
        }
      ]
    },
    {
      "cell_type": "code",
      "metadata": {
        "id": "21Xh3mBJJfmA",
        "colab_type": "code",
        "colab": {
          "base_uri": "https://localhost:8080/",
          "height": 51
        },
        "outputId": "0229991d-473d-40cb-ac16-9b1bc5f870d0"
      },
      "source": [
        "points[1:] #All rows after the first; implicitly all columns"
      ],
      "execution_count": 62,
      "outputs": [
        {
          "output_type": "execute_result",
          "data": {
            "text/plain": [
              "tensor([[5., 3.],\n",
              "        [2., 1.]])"
            ]
          },
          "metadata": {
            "tags": []
          },
          "execution_count": 62
        }
      ]
    },
    {
      "cell_type": "code",
      "metadata": {
        "id": "okCLtJX0JjWx",
        "colab_type": "code",
        "colab": {
          "base_uri": "https://localhost:8080/",
          "height": 51
        },
        "outputId": "45bddbdd-59c0-4a31-e4b2-64b35daa9429"
      },
      "source": [
        "points[1:, :] #All rows after the first; explicitly all columns"
      ],
      "execution_count": 63,
      "outputs": [
        {
          "output_type": "execute_result",
          "data": {
            "text/plain": [
              "tensor([[5., 3.],\n",
              "        [2., 1.]])"
            ]
          },
          "metadata": {
            "tags": []
          },
          "execution_count": 63
        }
      ]
    },
    {
      "cell_type": "code",
      "metadata": {
        "id": "4sd88g6BJshv",
        "colab_type": "code",
        "colab": {
          "base_uri": "https://localhost:8080/",
          "height": 34
        },
        "outputId": "c73c75fa-3f11-4b9b-86e2-4dccd31e5fb1"
      },
      "source": [
        "points[1:, 0] #All rows after the first; first column"
      ],
      "execution_count": 64,
      "outputs": [
        {
          "output_type": "execute_result",
          "data": {
            "text/plain": [
              "tensor([5., 2.])"
            ]
          },
          "metadata": {
            "tags": []
          },
          "execution_count": 64
        }
      ]
    },
    {
      "cell_type": "code",
      "metadata": {
        "id": "jtLArBekJx73",
        "colab_type": "code",
        "colab": {
          "base_uri": "https://localhost:8080/",
          "height": 68
        },
        "outputId": "d30598af-7788-4d33-92e1-3f6bd21f7fb2"
      },
      "source": [
        "points[None] #Adds a dimension of size 1, just like unsqueeze"
      ],
      "execution_count": 65,
      "outputs": [
        {
          "output_type": "execute_result",
          "data": {
            "text/plain": [
              "tensor([[[4., 1.],\n",
              "         [5., 3.],\n",
              "         [2., 1.]]])"
            ]
          },
          "metadata": {
            "tags": []
          },
          "execution_count": 65
        }
      ]
    },
    {
      "cell_type": "markdown",
      "metadata": {
        "id": "lklPLYErJ9cF",
        "colab_type": "text"
      },
      "source": [
        "## Named tensors\n",
        "\n",
        "The dimensions (or axes) of our tensors usually index something like pixel locations or color channels. This means when we want to index into a tensor, we need to remember the ordering of the dimensions and write our indexing accordingly. As data is transformed through multiple tensors, keeping track of which dimension contains what data can be error-prone.\n",
        "\n",
        "To make things concrete, imagine that we have a 3D tensor like `img_t` from Chapter 2 (we will use dummy data for simplicity here), and we want to convert it to gray-scale. We looked up typical weights for the colors to derive a single brightness value:\n"
      ]
    },
    {
      "cell_type": "code",
      "metadata": {
        "id": "lmNU3dCyJ3l-",
        "colab_type": "code",
        "colab": {
          "base_uri": "https://localhost:8080/",
          "height": 306
        },
        "outputId": "d70f1aa3-98f6-472f-b966-de2275b41799"
      },
      "source": [
        "img_t = torch.randn(3, 5, 5) # shape [channels, rows, columns]\n",
        "weights = torch.tensor([0.2126, 0.7152, 0.0722])\n",
        "img_t"
      ],
      "execution_count": 70,
      "outputs": [
        {
          "output_type": "execute_result",
          "data": {
            "text/plain": [
              "tensor([[[ 2.0491, -1.7133,  0.3301, -0.4774,  1.5977],\n",
              "         [-0.5554, -0.4161, -0.2039, -0.1720,  0.8689],\n",
              "         [ 0.7432,  0.0708, -0.3763, -1.0310, -0.5771],\n",
              "         [-1.9236, -0.7082, -0.2647, -1.5736,  0.8818],\n",
              "         [ 0.6958,  0.4802,  0.6357, -1.1568,  0.9194]],\n",
              "\n",
              "        [[-0.0711, -0.7977,  0.2972, -2.1691, -1.7855],\n",
              "         [ 0.1464,  1.4155,  0.8484, -0.2839,  0.7080],\n",
              "         [-1.3324, -0.2196, -1.0050, -1.0532, -0.4240],\n",
              "         [ 0.6019,  1.0038, -0.6556, -1.2584,  0.2469],\n",
              "         [ 0.4797, -0.3120,  0.3117,  0.8204, -0.9861]],\n",
              "\n",
              "        [[-0.3466, -0.8451, -0.6231,  0.4115,  0.5478],\n",
              "         [-0.2135, -1.2920, -1.6635,  0.1329,  0.6698],\n",
              "         [-0.1089, -0.3372, -1.5829, -2.3031,  0.1435],\n",
              "         [ 1.7641,  1.9216,  2.4142, -0.3526, -0.1309],\n",
              "         [ 0.9444,  1.1911,  0.4640, -0.1588, -0.0162]]])"
            ]
          },
          "metadata": {
            "tags": []
          },
          "execution_count": 70
        }
      ]
    },
    {
      "cell_type": "markdown",
      "metadata": {
        "id": "BqfvBtFWKuDl",
        "colab_type": "text"
      },
      "source": [
        "We also often want our code to generalize—for example, from grayscale images represented as 2D tensors with height and width dimensions to color images adding a third channel dimension (as in RGB), or from a single image to a batch of images. In Chapter 2, we introduced an additional batch dimension in `batch_t`; here we pretend to have a batch of 2:"
      ]
    },
    {
      "cell_type": "code",
      "metadata": {
        "id": "v0qGJspjKYnB",
        "colab_type": "code",
        "colab": {
          "base_uri": "https://localhost:8080/",
          "height": 629
        },
        "outputId": "a9cd8b98-35a0-41d6-f14e-5b921f1499ab"
      },
      "source": [
        "batch_t = torch.randn(2, 3, 5, 5) # shape [batch, channels, rows, columns]\n",
        "batch_t"
      ],
      "execution_count": 71,
      "outputs": [
        {
          "output_type": "execute_result",
          "data": {
            "text/plain": [
              "tensor([[[[ 0.2516,  0.2138,  0.6414,  1.0603,  1.0442],\n",
              "          [-1.0301,  0.7717,  1.4197,  0.7074,  2.0589],\n",
              "          [ 0.0048,  1.1261,  1.2242, -2.5519, -1.2985],\n",
              "          [ 0.6269, -0.0979, -0.3137, -0.3822,  0.6504],\n",
              "          [ 1.5533, -0.2308, -0.2092, -0.8924, -1.8158]],\n",
              "\n",
              "         [[-1.6189, -0.7874, -0.1779, -0.0462, -0.8193],\n",
              "          [ 0.5442, -1.4447,  0.2230,  1.6417,  1.4519],\n",
              "          [-0.7011, -0.2460, -0.4905, -0.0053,  0.2614],\n",
              "          [ 0.0504, -1.3980, -1.3963, -1.3551, -0.7476],\n",
              "          [ 0.2842, -2.8905,  0.2627, -0.9862,  0.4286]],\n",
              "\n",
              "         [[ 2.1992, -0.7362,  0.1114, -1.2092, -0.9888],\n",
              "          [ 0.1568,  0.3269, -1.3994,  0.4076, -0.4247],\n",
              "          [-0.2315,  1.4396,  0.4597, -0.4249,  0.3956],\n",
              "          [ 0.1637, -0.0583, -0.1873, -0.4336,  1.2129],\n",
              "          [ 0.2462,  0.3260, -0.8600, -1.1604, -0.9840]]],\n",
              "\n",
              "\n",
              "        [[[-0.4269,  1.3557, -0.3782,  0.5774,  0.9278],\n",
              "          [ 0.1613,  1.1451, -0.5269, -0.9213, -0.5751],\n",
              "          [-0.2934, -0.7660,  1.0496,  0.1537,  0.9632],\n",
              "          [ 0.4551, -0.9186,  0.8179,  0.0505,  1.0436],\n",
              "          [ 0.7163, -2.0054, -0.1362, -0.0187, -0.2367]],\n",
              "\n",
              "         [[-1.1920, -0.1383,  0.9246, -0.4070, -2.1456],\n",
              "          [ 1.7257, -1.3958, -0.7586,  0.9598, -0.6747],\n",
              "          [-0.9835,  0.8524,  0.4133, -1.1312,  1.3501],\n",
              "          [-0.5944, -0.7363,  0.2774, -1.0571,  1.6099],\n",
              "          [ 0.2590,  0.1221, -1.0249, -0.1266,  0.5793]],\n",
              "\n",
              "         [[-1.1571, -0.1510,  0.0559, -0.8502, -0.6757],\n",
              "          [-0.0684, -0.8898,  1.2814,  1.3894,  0.8539],\n",
              "          [-0.7078, -0.5451, -1.3473,  0.8874,  2.4073],\n",
              "          [ 0.1829, -0.6898, -0.5093, -1.0331,  0.8990],\n",
              "          [-1.0940,  0.4921,  0.1396, -0.2500,  1.6057]]]])"
            ]
          },
          "metadata": {
            "tags": []
          },
          "execution_count": 71
        }
      ]
    },
    {
      "cell_type": "markdown",
      "metadata": {
        "id": "_Il3PwaBK7Xc",
        "colab_type": "text"
      },
      "source": [
        "So sometimes the RGB channels are in dimension 0, and sometimes they are in dimension 1. But we can generalize by counting from the end: they are always in dimension –3, the third from the end. The lazy, unweighted [mean](https://pytorch.org/docs/master/generated/torch.mean.html) (R+G+B)/3 can thus be written as follows:"
      ]
    },
    {
      "cell_type": "code",
      "metadata": {
        "id": "a2S5D6W4K2-k",
        "colab_type": "code",
        "colab": {
          "base_uri": "https://localhost:8080/",
          "height": 119
        },
        "outputId": "62c8a481-4eac-4231-dcae-d3125e28a3bc"
      },
      "source": [
        "img_gray_naive = img_t.mean(-3)\n",
        "batch_gray_naive = batch_t.mean(-3)\n",
        "img_gray_naive, img_gray_naive.shape"
      ],
      "execution_count": 74,
      "outputs": [
        {
          "output_type": "execute_result",
          "data": {
            "text/plain": [
              "(tensor([[ 5.4377e-01, -1.1187e+00,  1.3810e-03, -7.4498e-01,  1.2001e-01],\n",
              "         [-2.0752e-01, -9.7497e-02, -3.3966e-01, -1.0767e-01,  7.4889e-01],\n",
              "         [-2.3270e-01, -1.6200e-01, -9.8811e-01, -1.4624e+00, -2.8586e-01],\n",
              "         [ 1.4744e-01,  7.3903e-01,  4.9796e-01, -1.0615e+00,  3.3262e-01],\n",
              "         [ 7.0664e-01,  4.5308e-01,  4.7048e-01, -1.6509e-01, -2.7662e-02]]),\n",
              " torch.Size([5, 5]))"
            ]
          },
          "metadata": {
            "tags": []
          },
          "execution_count": 74
        }
      ]
    },
    {
      "cell_type": "code",
      "metadata": {
        "id": "fgTy4XtHaRie",
        "colab_type": "code",
        "colab": {
          "base_uri": "https://localhost:8080/",
          "height": 221
        },
        "outputId": "553397b4-c9e1-4347-cb12-1772f981f7b5"
      },
      "source": [
        " batch_gray_naive, batch_gray_naive.shape"
      ],
      "execution_count": 75,
      "outputs": [
        {
          "output_type": "execute_result",
          "data": {
            "text/plain": [
              "(tensor([[[ 2.7729e-01, -4.3658e-01,  1.9163e-01, -6.5041e-02, -2.5462e-01],\n",
              "          [-1.0970e-01, -1.1535e-01,  8.1088e-02,  9.1887e-01,  1.0287e+00],\n",
              "          [-3.0925e-01,  7.7327e-01,  3.9779e-01, -9.9405e-01, -2.1381e-01],\n",
              "          [ 2.8032e-01, -5.1807e-01, -6.3241e-01, -7.2363e-01,  3.7189e-01],\n",
              "          [ 6.9453e-01, -9.3178e-01, -2.6883e-01, -1.0130e+00, -7.9038e-01]],\n",
              " \n",
              "         [[-9.2533e-01,  3.5549e-01,  2.0077e-01, -2.2659e-01, -6.3116e-01],\n",
              "          [ 6.0621e-01, -3.8013e-01, -1.3576e-03,  4.7599e-01, -1.3198e-01],\n",
              "          [-6.6157e-01, -1.5290e-01,  3.8529e-02, -3.0042e-02,  1.5735e+00],\n",
              "          [ 1.4536e-02, -7.8159e-01,  1.9534e-01, -6.7991e-01,  1.1842e+00],\n",
              "          [-3.9573e-02, -4.6374e-01, -3.4047e-01, -1.3175e-01,  6.4945e-01]]]),\n",
              " torch.Size([2, 5, 5]))"
            ]
          },
          "metadata": {
            "tags": []
          },
          "execution_count": 75
        }
      ]
    },
    {
      "cell_type": "markdown",
      "metadata": {
        "id": "g0kgld0FMyV-",
        "colab_type": "text"
      },
      "source": [
        "But now we have the weight, too. PyTorch will allow us to multiply things that are the same shape, as well as shapes where one operand is of size 1 in a given dimension. It also appends leading dimensions of size 1 automatically. This is a feature called [broadcasting](https://stackoverflow.com/questions/51371070/how-does-pytorch-broadcasting-work). `batch_t` of shape `(2, 3, 5, 5)` is multiplied by *unsqueezed_weights* of shape `(3, 1, 1)`, resulting in a tensor of shape `(2, 3, 5, 5)`, from which we can then sum the third dimension from the end (the three channels):"
      ]
    },
    {
      "cell_type": "code",
      "metadata": {
        "id": "S_wsXQ90fG5t",
        "colab_type": "code",
        "colab": {
          "base_uri": "https://localhost:8080/",
          "height": 34
        },
        "outputId": "2a4b6fce-5bf1-43c1-b777-76401bb2fd84"
      },
      "source": [
        "weights"
      ],
      "execution_count": 87,
      "outputs": [
        {
          "output_type": "execute_result",
          "data": {
            "text/plain": [
              "tensor([0.2126, 0.7152, 0.0722])"
            ]
          },
          "metadata": {
            "tags": []
          },
          "execution_count": 87
        }
      ]
    },
    {
      "cell_type": "code",
      "metadata": {
        "id": "CNTEtmPpLCML",
        "colab_type": "code",
        "colab": {
          "base_uri": "https://localhost:8080/",
          "height": 102
        },
        "outputId": "0ca84db7-a3f7-4fab-c477-627979a1b53d"
      },
      "source": [
        "unsqueezed_weights = weights.unsqueeze(-1).unsqueeze_(-1)\n",
        "unsqueezed_weights"
      ],
      "execution_count": 88,
      "outputs": [
        {
          "output_type": "execute_result",
          "data": {
            "text/plain": [
              "tensor([[[0.2126]],\n",
              "\n",
              "        [[0.7152]],\n",
              "\n",
              "        [[0.0722]]])"
            ]
          },
          "metadata": {
            "tags": []
          },
          "execution_count": 88
        }
      ]
    },
    {
      "cell_type": "code",
      "metadata": {
        "id": "A957UfLAdPVM",
        "colab_type": "code",
        "colab": {
          "base_uri": "https://localhost:8080/",
          "height": 306
        },
        "outputId": "a17756c6-aab5-40c0-e049-22ca718d2271"
      },
      "source": [
        "img_weights = (img_t * unsqueezed_weights)\n",
        "img_weights"
      ],
      "execution_count": 89,
      "outputs": [
        {
          "output_type": "execute_result",
          "data": {
            "text/plain": [
              "tensor([[[ 4.3563e-01, -3.6424e-01,  7.0171e-02, -1.0149e-01,  3.3967e-01],\n",
              "         [-1.1808e-01, -8.8453e-02, -4.3358e-02, -3.6562e-02,  1.8472e-01],\n",
              "         [ 1.5800e-01,  1.5048e-02, -8.0008e-02, -2.1919e-01, -1.2269e-01],\n",
              "         [-4.0896e-01, -1.5057e-01, -5.6280e-02, -3.3454e-01,  1.8748e-01],\n",
              "         [ 1.4793e-01,  1.0208e-01,  1.3516e-01, -2.4594e-01,  1.9545e-01]],\n",
              "\n",
              "        [[-5.0879e-02, -5.7051e-01,  2.1257e-01, -1.5513e+00, -1.2770e+00],\n",
              "         [ 1.0470e-01,  1.0124e+00,  6.0680e-01, -2.0307e-01,  5.0634e-01],\n",
              "         [-9.5292e-01, -1.5706e-01, -7.1881e-01, -7.5324e-01, -3.0326e-01],\n",
              "         [ 4.3048e-01,  7.1788e-01, -4.6889e-01, -8.9998e-01,  1.7659e-01],\n",
              "         [ 3.4306e-01, -2.2313e-01,  2.2295e-01,  5.8676e-01, -7.0528e-01]],\n",
              "\n",
              "        [[-2.5026e-02, -6.1017e-02, -4.4991e-02,  2.9713e-02,  3.9554e-02],\n",
              "         [-1.5416e-02, -9.3280e-02, -1.2010e-01,  9.5962e-03,  4.8363e-02],\n",
              "         [-7.8607e-03, -2.4345e-02, -1.1429e-01, -1.6628e-01,  1.0363e-02],\n",
              "         [ 1.2736e-01,  1.3874e-01,  1.7431e-01, -2.5456e-02, -9.4502e-03],\n",
              "         [ 6.8187e-02,  8.5994e-02,  3.3500e-02, -1.1468e-02, -1.1703e-03]]])"
            ]
          },
          "metadata": {
            "tags": []
          },
          "execution_count": 89
        }
      ]
    },
    {
      "cell_type": "markdown",
      "metadata": {
        "id": "RwuA6hzifk-b",
        "colab_type": "text"
      },
      "source": [
        "`batch_t` of shape `(2, 3, 5, 5)` is multiplied by unsqueezed_weights of shape `(3, 1, 1)`, resulting in a tensor of shape `(2, 3, 5, 5)`"
      ]
    },
    {
      "cell_type": "code",
      "metadata": {
        "id": "F4jYdpfLepOL",
        "colab_type": "code",
        "colab": {
          "base_uri": "https://localhost:8080/",
          "height": 646
        },
        "outputId": "4c849988-7e44-487c-85a5-de41cc59b3b6"
      },
      "source": [
        "batch_weights = (batch_t * unsqueezed_weights)\n",
        "batch_weights, batch_weights.shape"
      ],
      "execution_count": 92,
      "outputs": [
        {
          "output_type": "execute_result",
          "data": {
            "text/plain": [
              "(tensor([[[[ 5.3484e-02,  4.5450e-02,  1.3635e-01,  2.2542e-01,  2.2199e-01],\n",
              "           [-2.1899e-01,  1.6406e-01,  3.0182e-01,  1.5039e-01,  4.3772e-01],\n",
              "           [ 1.0207e-03,  2.3942e-01,  2.6027e-01, -5.4254e-01, -2.7605e-01],\n",
              "           [ 1.3327e-01, -2.0808e-02, -6.6690e-02, -8.1265e-02,  1.3827e-01],\n",
              "           [ 3.3022e-01, -4.9062e-02, -4.4472e-02, -1.8973e-01, -3.8603e-01]],\n",
              " \n",
              "          [[-1.1578e+00, -5.6311e-01, -1.2725e-01, -3.3027e-02, -5.8594e-01],\n",
              "           [ 3.8920e-01, -1.0332e+00,  1.5948e-01,  1.1741e+00,  1.0384e+00],\n",
              "           [-5.0140e-01, -1.7592e-01, -3.5083e-01, -3.8208e-03,  1.8698e-01],\n",
              "           [ 3.6014e-02, -9.9988e-01, -9.9861e-01, -9.6915e-01, -5.3471e-01],\n",
              "           [ 2.0325e-01, -2.0673e+00,  1.8789e-01, -7.0533e-01,  3.0653e-01]],\n",
              " \n",
              "          [[ 1.5878e-01, -5.3151e-02,  8.0466e-03, -8.7307e-02, -7.1388e-02],\n",
              "           [ 1.1321e-02,  2.3604e-02, -1.0104e-01,  2.9427e-02, -3.0663e-02],\n",
              "           [-1.6714e-02,  1.0394e-01,  3.3189e-02, -3.0675e-02,  2.8562e-02],\n",
              "           [ 1.1821e-02, -4.2093e-03, -1.3521e-02, -3.1305e-02,  8.7573e-02],\n",
              "           [ 1.7773e-02,  2.3534e-02, -6.2093e-02, -8.3778e-02, -7.1043e-02]]],\n",
              " \n",
              " \n",
              "         [[[-9.0757e-02,  2.8822e-01, -8.0402e-02,  1.2276e-01,  1.9725e-01],\n",
              "           [ 3.4303e-02,  2.4346e-01, -1.1202e-01, -1.9586e-01, -1.2226e-01],\n",
              "           [-6.2381e-02, -1.6285e-01,  2.2314e-01,  3.2671e-02,  2.0478e-01],\n",
              "           [ 9.6747e-02, -1.9530e-01,  1.7388e-01,  1.0727e-02,  2.2187e-01],\n",
              "           [ 1.5229e-01, -4.2636e-01, -2.8955e-02, -3.9660e-03, -5.0321e-02]],\n",
              " \n",
              "          [[-8.5253e-01, -9.8878e-02,  6.6125e-01, -2.9111e-01, -1.5345e+00],\n",
              "           [ 1.2342e+00, -9.9826e-01, -5.4255e-01,  6.8647e-01, -4.8256e-01],\n",
              "           [-7.0342e-01,  6.0961e-01,  2.9563e-01, -8.0902e-01,  9.6560e-01],\n",
              "           [-4.2511e-01, -5.2660e-01,  1.9842e-01, -7.5603e-01,  1.1514e+00],\n",
              "           [ 1.8524e-01,  8.7323e-02, -7.3299e-01, -9.0552e-02,  4.1433e-01]],\n",
              " \n",
              "          [[-8.3541e-02, -1.0900e-02,  4.0389e-03, -6.1381e-02, -4.8788e-02],\n",
              "           [-4.9377e-03, -6.4241e-02,  9.2520e-02,  1.0031e-01,  6.1650e-02],\n",
              "           [-5.1100e-02, -3.9353e-02, -9.7278e-02,  6.4069e-02,  1.7381e-01],\n",
              "           [ 1.3208e-02, -4.9805e-02, -3.6773e-02, -7.4590e-02,  6.4907e-02],\n",
              "           [-7.8989e-02,  3.5531e-02,  1.0082e-02, -1.8049e-02,  1.1593e-01]]]]),\n",
              " torch.Size([2, 3, 5, 5]))"
            ]
          },
          "metadata": {
            "tags": []
          },
          "execution_count": 92
        }
      ]
    },
    {
      "cell_type": "markdown",
      "metadata": {
        "id": "hZzYt2I0fwfX",
        "colab_type": "text"
      },
      "source": [
        "from which we can then sum the third dimension from the end (the three channels):"
      ]
    },
    {
      "cell_type": "code",
      "metadata": {
        "id": "DENWOqHxf5k8",
        "colab_type": "code",
        "colab": {
          "base_uri": "https://localhost:8080/",
          "height": 102
        },
        "outputId": "922a6197-00c8-407b-9711-2061d825bbfc"
      },
      "source": [
        "img_gray_weighted = img_weights.sum(-3)\n",
        "img_gray_weighted, img_gray_weighted.shape"
      ],
      "execution_count": 93,
      "outputs": [
        {
          "output_type": "execute_result",
          "data": {
            "text/plain": [
              "(tensor([[ 0.3597, -0.9958,  0.2378, -1.6231, -0.8978],\n",
              "         [-0.0288,  0.8307,  0.4433, -0.2300,  0.7394],\n",
              "         [-0.8028, -0.1664, -0.9131, -1.1387, -0.4156],\n",
              "         [ 0.1489,  0.7060, -0.3509, -1.2600,  0.3546],\n",
              "         [ 0.5592, -0.0351,  0.3916,  0.3293, -0.5110]]), torch.Size([5, 5]))"
            ]
          },
          "metadata": {
            "tags": []
          },
          "execution_count": 93
        }
      ]
    },
    {
      "cell_type": "code",
      "metadata": {
        "id": "ktV9zaJBfDnj",
        "colab_type": "code",
        "colab": {
          "base_uri": "https://localhost:8080/",
          "height": 221
        },
        "outputId": "c4364345-fff7-410c-bda8-1516df1e29be"
      },
      "source": [
        "batch_gray_weighted = batch_weights.sum(-3)\n",
        "batch_gray_weighted, batch_gray_weighted.shape"
      ],
      "execution_count": 94,
      "outputs": [
        {
          "output_type": "execute_result",
          "data": {
            "text/plain": [
              "(tensor([[[-0.9456, -0.5708,  0.0171,  0.1051, -0.4353],\n",
              "          [ 0.1815, -0.8456,  0.3603,  1.3539,  1.4455],\n",
              "          [-0.5171,  0.1674, -0.0574, -0.5770, -0.0605],\n",
              "          [ 0.1811, -1.0249, -1.0788, -1.0817, -0.3089],\n",
              "          [ 0.5512, -2.0928,  0.0813, -0.9788, -0.1505]],\n",
              " \n",
              "         [[-1.0268,  0.1784,  0.5849, -0.2297, -1.3860],\n",
              "          [ 1.2636, -0.8190, -0.5621,  0.5909, -0.5432],\n",
              "          [-0.8169,  0.4074,  0.4215, -0.7123,  1.3442],\n",
              "          [-0.3152, -0.7717,  0.3355, -0.8199,  1.4382],\n",
              "          [ 0.2585, -0.3035, -0.7519, -0.1126,  0.4799]]]),\n",
              " torch.Size([2, 5, 5]))"
            ]
          },
          "metadata": {
            "tags": []
          },
          "execution_count": 94
        }
      ]
    },
    {
      "cell_type": "code",
      "metadata": {
        "id": "LSAZ2G1xfTbh",
        "colab_type": "code",
        "colab": {
          "base_uri": "https://localhost:8080/",
          "height": 34
        },
        "outputId": "61571861-539d-4542-ba2c-506d8b1f9d79"
      },
      "source": [
        "batch_weights.shape, batch_t.shape, unsqueezed_weights.shape"
      ],
      "execution_count": 95,
      "outputs": [
        {
          "output_type": "execute_result",
          "data": {
            "text/plain": [
              "(torch.Size([2, 3, 5, 5]), torch.Size([2, 3, 5, 5]), torch.Size([3, 1, 1]))"
            ]
          },
          "metadata": {
            "tags": []
          },
          "execution_count": 95
        }
      ]
    },
    {
      "cell_type": "markdown",
      "metadata": {
        "id": "09GwcmDkgZFH",
        "colab_type": "text"
      },
      "source": [
        "Because this gets messy quickly—and for the sake of efficiency—the PyTorch function `einsum` (adapted from NumPy) specifies an indexing mini-language giving index names to dimensions for sums of such products. As often in Python, broadcasting—a form of summarizing unnamed things—is done using three dots '...'; but don’t worry too much about `einsum`, because we will not use it in the following:"
      ]
    },
    {
      "cell_type": "code",
      "metadata": {
        "id": "IJAJ6ds6gJxn",
        "colab_type": "code",
        "colab": {
          "base_uri": "https://localhost:8080/",
          "height": 34
        },
        "outputId": "64f1a61d-3697-4469-f7c9-bbcd78d3a0d5"
      },
      "source": [
        "img_gray_weighted_fancy = torch.einsum('...chw,c->...hw', img_t, weights)\n",
        "batch_gray_weighted_fancy = torch.einsum('...chw,c->...hw', batch_t, weights)\n",
        "batch_gray_weighted_fancy.shape"
      ],
      "execution_count": 96,
      "outputs": [
        {
          "output_type": "execute_result",
          "data": {
            "text/plain": [
              "torch.Size([2, 5, 5])"
            ]
          },
          "metadata": {
            "tags": []
          },
          "execution_count": 96
        }
      ]
    },
    {
      "cell_type": "markdown",
      "metadata": {
        "id": "UItrsogAg0CY",
        "colab_type": "text"
      },
      "source": [
        "As we can see, there is quite a lot of bookkeeping involved. This is error-prone, especially when the locations where tensors are created and used are far apart in our code. This has caught the eye of practitioners, and so it has been suggested that the dimension be given a name instead.\n",
        "PyTorch 1.3 added named tensors as an experimental feature (see https://pytorch.org/tutorials/intermediate/named_tensor_tutorial.html and https://pytorch.org/docs/stable/named_tensor.html). Tensor factory functions such as `tensor` and `rand` take a `names` argument. The names should be a sequence of strings:"
      ]
    },
    {
      "cell_type": "code",
      "metadata": {
        "id": "WmNagbowgpcF",
        "colab_type": "code",
        "colab": {
          "base_uri": "https://localhost:8080/",
          "height": 71
        },
        "outputId": "e312b007-cb1d-4529-de50-1e9b3d3927ff"
      },
      "source": [
        "weights_named = torch.tensor([0.2126, 0.7152, 0.0722], names=['channels'])\n",
        "weights_named"
      ],
      "execution_count": 97,
      "outputs": [
        {
          "output_type": "stream",
          "text": [
            "/pytorch/c10/core/TensorImpl.h:806: UserWarning: Named tensors and all their associated APIs are an experimental feature and subject to change. Please do not use them for anything important until they are released as stable.\n"
          ],
          "name": "stderr"
        },
        {
          "output_type": "execute_result",
          "data": {
            "text/plain": [
              "tensor([0.2126, 0.7152, 0.0722], names=('channels',))"
            ]
          },
          "metadata": {
            "tags": []
          },
          "execution_count": 97
        }
      ]
    },
    {
      "cell_type": "markdown",
      "metadata": {
        "id": "XY9TbkmDhMGQ",
        "colab_type": "text"
      },
      "source": [
        "Note: PyTorch recommends that Named tensors and all their associated APIs are an experimental feature and subject to change. Please do not use them for anything important until they are released as stable."
      ]
    },
    {
      "cell_type": "markdown",
      "metadata": {
        "id": "cE9YL-anhddl",
        "colab_type": "text"
      },
      "source": [
        "When we already have a tensor and want to add names (but not change existing ones), we can call the method `refine_names` on it. Similar to indexing, the ellipsis (...) allows you to leave out any number of dimensions. With the rename sibling method, you can also overwrite or drop (by passing in None) existing names:\n"
      ]
    },
    {
      "cell_type": "code",
      "metadata": {
        "id": "PGUQL18MhEQR",
        "colab_type": "code",
        "colab": {
          "base_uri": "https://localhost:8080/",
          "height": 51
        },
        "outputId": "6208e3b0-ab41-4a1e-8907-dc0ee40c7b79"
      },
      "source": [
        "img_named = img_t.refine_names(..., 'channels', 'rows', 'columns')\n",
        "batch_named = batch_t.refine_names(..., 'channels', 'rows', 'columns')\n",
        "print(\"img named:\", img_named.shape, img_named.names)\n",
        "print(\"batch named:\", batch_named.shape, batch_named.names)"
      ],
      "execution_count": 99,
      "outputs": [
        {
          "output_type": "stream",
          "text": [
            "img named: torch.Size([3, 5, 5]) ('channels', 'rows', 'columns')\n",
            "batch named: torch.Size([2, 3, 5, 5]) (None, 'channels', 'rows', 'columns')\n"
          ],
          "name": "stdout"
        }
      ]
    },
    {
      "cell_type": "markdown",
      "metadata": {
        "id": "CYFavXzVh34_",
        "colab_type": "text"
      },
      "source": [
        "For operations with two inputs, in addition to the usual dimension checks—whether sizes are the same, or if one is 1 and can be broadcast to the other—PyTorch will now check the names for us. So far, it does not automatically align dimensions, so we need to do this explicitly. The method `align_as` returns a tensor with missing dimensions added and existing ones permuted to the right order:"
      ]
    },
    {
      "cell_type": "code",
      "metadata": {
        "id": "OjVTKD5uhofM",
        "colab_type": "code",
        "colab": {
          "base_uri": "https://localhost:8080/",
          "height": 34
        },
        "outputId": "c2c3291c-9c6c-4b0f-a5d1-7e239f4ba3d0"
      },
      "source": [
        "weights_aligned = weights_named.align_as(img_named)\n",
        "weights_aligned.shape, weights_aligned.names"
      ],
      "execution_count": 100,
      "outputs": [
        {
          "output_type": "execute_result",
          "data": {
            "text/plain": [
              "(torch.Size([3, 1, 1]), ('channels', 'rows', 'columns'))"
            ]
          },
          "metadata": {
            "tags": []
          },
          "execution_count": 100
        }
      ]
    },
    {
      "cell_type": "markdown",
      "metadata": {
        "id": "48DXdNUPiLV1",
        "colab_type": "text"
      },
      "source": [
        "Functions accepting dimension arguments, like `sum`, also take named dimensions:"
      ]
    },
    {
      "cell_type": "code",
      "metadata": {
        "id": "zMgHamnbiI0I",
        "colab_type": "code",
        "colab": {
          "base_uri": "https://localhost:8080/",
          "height": 34
        },
        "outputId": "5f5d111a-5b27-4abe-b732-6c9aa5fb4a55"
      },
      "source": [
        "gray_named = (img_named * weights_aligned).sum('channels')\n",
        "gray_named.shape, gray_named.names"
      ],
      "execution_count": 101,
      "outputs": [
        {
          "output_type": "execute_result",
          "data": {
            "text/plain": [
              "(torch.Size([5, 5]), ('rows', 'columns'))"
            ]
          },
          "metadata": {
            "tags": []
          },
          "execution_count": 101
        }
      ]
    },
    {
      "cell_type": "markdown",
      "metadata": {
        "id": "SIulhr3hiVwh",
        "colab_type": "text"
      },
      "source": [
        "If we try to combine dimensions with different names, we get an error:"
      ]
    },
    {
      "cell_type": "code",
      "metadata": {
        "id": "a0LPZQZEiOk-",
        "colab_type": "code",
        "colab": {
          "base_uri": "https://localhost:8080/",
          "height": 181
        },
        "outputId": "4aacbb2b-e10e-44ce-bdb6-16a0851344e2"
      },
      "source": [
        "gray_named = (img_named[..., :3] * weights_named).sum('channels')"
      ],
      "execution_count": 102,
      "outputs": [
        {
          "output_type": "error",
          "ename": "RuntimeError",
          "evalue": "ignored",
          "traceback": [
            "\u001b[0;31m---------------------------------------------------------------------------\u001b[0m",
            "\u001b[0;31mRuntimeError\u001b[0m                              Traceback (most recent call last)",
            "\u001b[0;32m<ipython-input-102-4959ba21081c>\u001b[0m in \u001b[0;36m<module>\u001b[0;34m()\u001b[0m\n\u001b[0;32m----> 1\u001b[0;31m \u001b[0mgray_named\u001b[0m \u001b[0;34m=\u001b[0m \u001b[0;34m(\u001b[0m\u001b[0mimg_named\u001b[0m\u001b[0;34m[\u001b[0m\u001b[0;34m...\u001b[0m\u001b[0;34m,\u001b[0m \u001b[0;34m:\u001b[0m\u001b[0;36m3\u001b[0m\u001b[0;34m]\u001b[0m \u001b[0;34m*\u001b[0m \u001b[0mweights_named\u001b[0m\u001b[0;34m)\u001b[0m\u001b[0;34m.\u001b[0m\u001b[0msum\u001b[0m\u001b[0;34m(\u001b[0m\u001b[0;34m'channels'\u001b[0m\u001b[0;34m)\u001b[0m\u001b[0;34m\u001b[0m\u001b[0;34m\u001b[0m\u001b[0m\n\u001b[0m",
            "\u001b[0;31mRuntimeError\u001b[0m: Error when attempting to broadcast dims ['channels', 'rows', 'columns'] and dims ['channels']: dim 'columns' and dim 'channels' are at the same position from the right but do not match."
          ]
        }
      ]
    },
    {
      "cell_type": "markdown",
      "metadata": {
        "id": "ZxymlLPzidbZ",
        "colab_type": "text"
      },
      "source": [
        "If we want to use tensors outside functions that operate on named tensors, we need to drop the names by renaming them to None. The following gets us back into the world of unnamed dimensions:"
      ]
    },
    {
      "cell_type": "code",
      "metadata": {
        "id": "asouU73jiYuN",
        "colab_type": "code",
        "colab": {
          "base_uri": "https://localhost:8080/",
          "height": 34
        },
        "outputId": "70aeb81f-ae00-47da-d290-c68fc113b90b"
      },
      "source": [
        "gray_plain = gray_named.rename(None)\n",
        "gray_plain.shape, gray_plain.names"
      ],
      "execution_count": 103,
      "outputs": [
        {
          "output_type": "execute_result",
          "data": {
            "text/plain": [
              "(torch.Size([5, 5]), (None, None))"
            ]
          },
          "metadata": {
            "tags": []
          },
          "execution_count": 103
        }
      ]
    },
    {
      "cell_type": "markdown",
      "metadata": {
        "id": "DGxIIYJgipnZ",
        "colab_type": "text"
      },
      "source": [
        "\n",
        "Given the experimental nature of this feature at the time of writing, and to avoid mucking around with indexing and alignment, we will stick to unnamed in the remainder of the book. Named tensors have the potential to eliminate many sources of alignment errors, which—if the PyTorch forum is any indication—can be a source of headaches. It will be interesting to see how widely they will be adopted."
      ]
    },
    {
      "cell_type": "markdown",
      "metadata": {
        "id": "_uUUhfR9issT",
        "colab_type": "text"
      },
      "source": [
        "## Tensor Element Types\n",
        "\n",
        "So far, we have covered the basics of how tensors work, but we have not yet touched on what kinds of numeric types we can store in a Tensor. As we hinted at in section 3.2, using the standard Python numeric types can be suboptimal for several reasons:\n",
        "- Numbers in Python are objects. Whereas a floating-point number might require only, for instance, 32 bits to be represented on a computer, Python will convert it into a full-fledged Python object with reference counting, and so on. This operation, called boxing, is not a problem if we need to store a small number of numbers, but allocating millions gets very inefficient.\n",
        "- Lists in Python are meant for sequential collections of objects. There are no operations defined for, say, efficiently taking the dot product of two vectors, or summing vec- tors together. Also, Python lists have no way of optimizing the layout of their con- tents in memory, as they are indexable collections of pointers to Python objects (of any kind, not just numbers). Finally, Python lists are one-dimensional, and although we can create lists of lists, this is again very inefficient.\n",
        "- The Python interpreter is slow compared to optimized, compiled code. Performing math- ematical operations on large collections of numerical data can be much faster using optimized code written in a compiled, low-level language like C.\n",
        "\n",
        "For these reasons, data science libraries rely on NumPy or introduce dedicated data structures like PyTorch tensors, which provide efficient low-level implementations of numerical data structures and related operations on them, wrapped in a convenient high-level API. To enable this, the objects within a tensor must all be numbers of the same type, and PyTorch must keep track of this numeric type."
      ]
    },
    {
      "cell_type": "markdown",
      "metadata": {
        "id": "NH-v7Ox6kOlo",
        "colab_type": "text"
      },
      "source": [
        "### Specifying the numeric type with dtype\n",
        "\n",
        "\n",
        "The `dtype` argument to tensor constructors (that is, functions like tensor, zeros, and ones) specifies the numerical data (d) type that will be contained in the tensor. The data type specifies the possible values the tensor can hold (integers versus floating-point numbers) and the number of bytes per value. The `dtype` argument is deliberately similar to the standard NumPy argument of the same name. Here's a list of all the possible values for the `dtype` argument:\n",
        "- `torch.float32` or `torch.float`: 32-bit floating-point\n",
        "- `torch.float64` or `torch.double`: 64-bit, double-precision floating-point\n",
        "- `torch.float16` or `torch.half`: 16-bit, half-precision floating-point\n",
        "- `torch.int8`: signed 8-bit integers\n",
        "- `torch.uint8`: unsigned 8-bit integers\n",
        "- `torch.int16` or `torch.short`: signed 16-bit integers\n",
        "- `torch.int32` or `torch.int`: signed 32-bit integers\n",
        "- `torch.int64` or `torch.long`: signed 64-bit integers\n",
        "- `torch.bool`: Boolean\n",
        "\n",
        "The default data type for tensors is 32-bit floating-point."
      ]
    },
    {
      "cell_type": "markdown",
      "metadata": {
        "id": "oc01rGx8lxo1",
        "colab_type": "text"
      },
      "source": [
        "### A `dtype` for every occasion\n",
        "\n",
        "As we will see in future chapters, computations happening in neural networks are typically executed with 32-bit floating-point precision. Higher precision, like 64-bit, will not buy improvements in the accuracy of a model and will require more memory and computing time. The 16-bit floating-point, half-precision data type is not present natively in standard CPUs, but it is offered on modern GPUs. It is possible to switch to half-precision to decrease the footprint of a neural network model if needed, with a minor impact on accuracy.\n",
        "\n",
        "\n",
        "Tensors can be used as indexes in other tensors. In this case, PyTorch expects indexing tensors to have a 64-bit integer data type. Creating a tensor with integers as arguments, such as using `torch.tensor([2, 2])`, will create a 64-bit integer tensor by default. As such, we’ll spend most of our time dealing with `float32` and `int64`.\n",
        "\n",
        "Finally, predicates on tensors, such as `points > 1.0`, produce `bool` tensors indicating whether each individual element satisfies the condition. These are the numeric types in a nutshell."
      ]
    },
    {
      "cell_type": "markdown",
      "metadata": {
        "id": "uBqw1sD2mNr2",
        "colab_type": "text"
      },
      "source": [
        "### Managing a tensor’s `dtype` attribute\n",
        "\n",
        "In order to allocate a tensor of the right numeric type, we can specify the proper `dtype` as an argument to the constructor. For example:"
      ]
    },
    {
      "cell_type": "code",
      "metadata": {
        "id": "4Vl1Z5LbmQQa",
        "colab_type": "code",
        "colab": {}
      },
      "source": [
        "double_points = torch.ones(10, 2, dtype=torch.double)\n",
        "short_points = torch.tensor([[1, 2], [3, 4]], dtype=torch.short)"
      ],
      "execution_count": 104,
      "outputs": []
    },
    {
      "cell_type": "markdown",
      "metadata": {
        "id": "66KJqY7tmbPL",
        "colab_type": "text"
      },
      "source": [
        "We can find out about the dtype for a tensor by accessing the corresponding attribute:"
      ]
    },
    {
      "cell_type": "code",
      "metadata": {
        "id": "Jz8r6-DLmZOJ",
        "colab_type": "code",
        "colab": {
          "base_uri": "https://localhost:8080/",
          "height": 34
        },
        "outputId": "505a9389-5f5b-4636-bd68-7951bffb9077"
      },
      "source": [
        "short_points.dtype"
      ],
      "execution_count": 105,
      "outputs": [
        {
          "output_type": "execute_result",
          "data": {
            "text/plain": [
              "torch.int16"
            ]
          },
          "metadata": {
            "tags": []
          },
          "execution_count": 105
        }
      ]
    },
    {
      "cell_type": "markdown",
      "metadata": {
        "id": "3DN_kx6hmgJB",
        "colab_type": "text"
      },
      "source": [
        "We can also cast the output of a tensor creation function to the right type using the corresponding casting method, such as"
      ]
    },
    {
      "cell_type": "code",
      "metadata": {
        "id": "San3aZBsmdnw",
        "colab_type": "code",
        "colab": {
          "base_uri": "https://localhost:8080/",
          "height": 34
        },
        "outputId": "180dd359-bc0a-4428-abbc-e92abe276d85"
      },
      "source": [
        "double_points = torch.zeros(10, 2).double()\n",
        "short_points = torch.ones(10, 2).short()\n",
        "double_points.dtype, short_points.dtype"
      ],
      "execution_count": 107,
      "outputs": [
        {
          "output_type": "execute_result",
          "data": {
            "text/plain": [
              "(torch.float64, torch.int16)"
            ]
          },
          "metadata": {
            "tags": []
          },
          "execution_count": 107
        }
      ]
    },
    {
      "cell_type": "markdown",
      "metadata": {
        "id": "NKYNhaz8mzHs",
        "colab_type": "text"
      },
      "source": [
        "or the more convenient to method:"
      ]
    },
    {
      "cell_type": "code",
      "metadata": {
        "id": "6JPJ9EqAmkRw",
        "colab_type": "code",
        "colab": {
          "base_uri": "https://localhost:8080/",
          "height": 34
        },
        "outputId": "7567a159-369d-4e7c-ead3-9b8de7005d99"
      },
      "source": [
        "double_points = torch.zeros(10, 2).to(torch.double)\n",
        "short_points = torch.ones(10, 2).to(dtype=torch.short)\n",
        "double_points.dtype, short_points.dtype"
      ],
      "execution_count": 108,
      "outputs": [
        {
          "output_type": "execute_result",
          "data": {
            "text/plain": [
              "(torch.float64, torch.int16)"
            ]
          },
          "metadata": {
            "tags": []
          },
          "execution_count": 108
        }
      ]
    },
    {
      "cell_type": "markdown",
      "metadata": {
        "id": "eWjjBB7UnKBH",
        "colab_type": "text"
      },
      "source": [
        "## The tensor API\n",
        "\n",
        "It is worth taking a look at the tensor operations that PyTorch offers. It would be of little use to list them all here. Instead, we’re going to get a general feel for the API and establish a few directions on where to find things in the online documentation at http://pytorch.org/docs.\n",
        "\n",
        "First, the vast majority of operations on and between tensors are available in the torch module and can also be called as methods of a tensor object.\n",
        "\n",
        "For instance, the transpose function we encountered earlier can be used from the torch module:"
      ]
    },
    {
      "cell_type": "code",
      "metadata": {
        "id": "1qnb7TG9m2mL",
        "colab_type": "code",
        "colab": {
          "base_uri": "https://localhost:8080/",
          "height": 34
        },
        "outputId": "4772e6a1-6c1b-4556-e0b8-c7c352d83f39"
      },
      "source": [
        "a = torch.ones(3, 2)\n",
        "a_t = torch.transpose(a, 0, 1)\n",
        "a.shape, a_t.shape"
      ],
      "execution_count": 110,
      "outputs": [
        {
          "output_type": "execute_result",
          "data": {
            "text/plain": [
              "(torch.Size([3, 2]), torch.Size([2, 3]))"
            ]
          },
          "metadata": {
            "tags": []
          },
          "execution_count": 110
        }
      ]
    },
    {
      "cell_type": "markdown",
      "metadata": {
        "id": "2f5BWealnvDR",
        "colab_type": "text"
      },
      "source": [
        "or as a method of the a tensor:"
      ]
    },
    {
      "cell_type": "code",
      "metadata": {
        "id": "viBID5UMnrzW",
        "colab_type": "code",
        "colab": {
          "base_uri": "https://localhost:8080/",
          "height": 34
        },
        "outputId": "e6825d43-4ca7-4f8d-d7fe-c893d3a91263"
      },
      "source": [
        "a = torch.ones(3, 2)\n",
        "a_t = a.transpose(0, 1)\n",
        "a.shape, a_t.shape"
      ],
      "execution_count": 111,
      "outputs": [
        {
          "output_type": "execute_result",
          "data": {
            "text/plain": [
              "(torch.Size([3, 2]), torch.Size([2, 3]))"
            ]
          },
          "metadata": {
            "tags": []
          },
          "execution_count": 111
        }
      ]
    },
    {
      "cell_type": "markdown",
      "metadata": {
        "id": "SmztDT28n0Ra",
        "colab_type": "text"
      },
      "source": [
        "There is no difference between the two forms; they can be used interchangeably.\n",
        "\n",
        "The PyTorch docs are exhaustive and well organized, with the tensor operations divided into groups:\n",
        "\n",
        "- *Creation ops* — Functions for constructing a tensor, like ones and from_numpy\n",
        "- *Indexing, slicing, joining, mutating ops*—Functions for changing the shape, stride, or content of a tensor, like transpose\n",
        "- *Math ops*—Functions for manipulating the content of the tensor through computations\n",
        "\n",
        "    * *Pointwise ops*-Functions for obtaining a new tensor by applying a function to each element independently, like abs and cos.\n",
        "\n",
        "    * *Reduction ops*-Functions for computing aggregate values by iterating through tensors, like mean, std, and norm\n",
        "    * Comparison ops—Functions for evaluating numerical predicates over tensors, like equal and max\n",
        "\n",
        "    * *Spectral ops*—Functions for transforming in and operating in the frequency domain, like stft and hamming_window\n",
        "\n",
        "    * *Other operations* —Special functions operating on vectors, like cross, or matrices, like trace\n",
        "\n",
        "    * *BLAS and LAPACK operations*—Functions following the Basic Linear Algebra Subprograms (BLAS) specification for scalar, vector-vector, matrix-vector, and matrix-matrix operations\n",
        "\n",
        "- *Random sampling*—Functions for generating values by drawing randomly from\n",
        "probability distributions, like randn and normal\n",
        "- *Serialization* —Functions for saving and loading tensors, like load and save\n",
        "- Parallelism—Functions for controlling the number of threads for parallel CPU\n",
        "execution, like set_num_threads"
      ]
    }
  ]
}