{
  "nbformat": 4,
  "nbformat_minor": 0,
  "metadata": {
    "colab": {
      "name": "Chapter6.ipynb",
      "provenance": [],
      "collapsed_sections": [],
      "authorship_tag": "ABX9TyM5RJ1bqhzfbd8AfK4yS5NM",
      "include_colab_link": true
    },
    "kernelspec": {
      "name": "python3",
      "display_name": "Python 3"
    }
  },
  "cells": [
    {
      "cell_type": "markdown",
      "metadata": {
        "id": "view-in-github",
        "colab_type": "text"
      },
      "source": [
        "<a href=\"https://colab.research.google.com/github/prat8897/DL_PyTorch/blob/master/Chapter6.ipynb\" target=\"_parent\"><img src=\"https://colab.research.google.com/assets/colab-badge.svg\" alt=\"Open In Colab\"/></a>"
      ]
    },
    {
      "cell_type": "markdown",
      "metadata": {
        "id": "HvKlCCSDBIuT",
        "colab_type": "text"
      },
      "source": [
        " # Using a neural network to fit the data\n"
      ]
    },
    {
      "cell_type": "markdown",
      "metadata": {
        "id": "ZThe-PSquPib",
        "colab_type": "text"
      },
      "source": [
        "## The PyTorch nn module\n",
        "\n",
        "Let's start building a neural network from scratch with PyTorch. Our first step will be to replace our linear model with a neural network unit. This will be a somewhat useless step backward from a correctness perspective, since we’ve already verified that our calibration only required a linear function, but it will still be instrumental for starting on a sufficiently simple problem and scaling up later.\n",
        "\n",
        "PyTorch has a whole submodule dedicated to neural networks, called `torch.nn`. It contains the building blocks needed to create all sorts of neural network architectures. Those building blocks are called modules in PyTorch parlance (such building blocks are often referred to as layers in other frameworks). A PyTorch module is a Python class deriving from the `nn.Module` base class. A module can have one or more Parameter instances as attributes, which are tensors whose values are optimized during the training process (think `w` and `b` in our linear model). A module can also have one or more submodules (subclasses of `nn.Module`) as attributes, and it will be able to track their parameters as well.\n",
        "\n",
        "\n",
        "Unsurprisingly, we can find a subclass of `nn.Module` called `nn.Linear`, which applies an affine transformation to its input (via the parameter attributes weight and bias) and is equivalent to what we implemented earlier in our thermometer experiments. We’ll now start precisely where we left off and convert our previous code to a form that uses `nn`."
      ]
    },
    {
      "cell_type": "markdown",
      "metadata": {
        "id": "rO711GoXGFHC",
        "colab_type": "text"
      },
      "source": [
        "\n",
        "In our thermometer data, `t_u` and `t_c` were two 1D tensors of size B. Thanks to broadcasting, we could write our linear model as `w * x + b`, where `w` and `b` were two scalar parameters. This worked because we had a single input feature: if we had two, we would need to add an extra dimension to turn that 1D tensor into a matrix with samples in the rows and features in the columns.\n",
        "\n",
        "\n",
        "### Batching Inputs\n",
        "Any module in `nn` is written to produce outputs for a batch of multiple inputs at the same time. Thus, assuming we need to run `nn.Linear` on 10 samples, we can create an input tensor of size `B × Nin`, where `B` is the size of the batch and `Nin` is the number of input features, and run it once through the model.\n",
        "\n",
        "That’s exactly what we need to do to switch to using `nn.Linear`. We reshape our `B` inputs to `B × Nin`, where `Nin` is `1`.\n",
        "\n",
        "That is easily done with `unsqueeze`:"
      ]
    },
    {
      "cell_type": "code",
      "metadata": {
        "id": "OpjGv--DBWns",
        "colab_type": "code",
        "colab": {}
      },
      "source": [
        "%matplotlib inline\n",
        "import numpy as np\n",
        "import torch\n",
        "import torch.optim as optim\n",
        "import torch.nn as nn\n",
        "\n",
        "torch.set_printoptions(edgeitems=2, linewidth=75)"
      ],
      "execution_count": 1,
      "outputs": []
    },
    {
      "cell_type": "code",
      "metadata": {
        "id": "1DH-cDM_FwBo",
        "colab_type": "code",
        "colab": {
          "base_uri": "https://localhost:8080/",
          "height": 374
        },
        "outputId": "6fd3b326-5c28-4d94-a5b8-e205205a8c8b"
      },
      "source": [
        "t_c = [0.5,  14.0, 15.0, 28.0, 11.0,  8.0,  3.0, -4.0,  6.0, 13.0, 21.0]\n",
        "t_u = [35.7, 55.9, 58.2, 81.9, 56.3, 48.9, 33.9, 21.8, 48.4, 60.4, 68.4]\n",
        "t_c = torch.tensor(t_c).unsqueeze(1) #adds extra dimension at axis 1\n",
        "t_u = torch.tensor(t_u).unsqueeze(1) \n",
        "\n",
        "t_c, t_u"
      ],
      "execution_count": 2,
      "outputs": [
        {
          "output_type": "execute_result",
          "data": {
            "text/plain": [
              "(tensor([[ 0.5000],\n",
              "         [14.0000],\n",
              "         [15.0000],\n",
              "         [28.0000],\n",
              "         [11.0000],\n",
              "         [ 8.0000],\n",
              "         [ 3.0000],\n",
              "         [-4.0000],\n",
              "         [ 6.0000],\n",
              "         [13.0000],\n",
              "         [21.0000]]), tensor([[35.7000],\n",
              "         [55.9000],\n",
              "         [58.2000],\n",
              "         [81.9000],\n",
              "         [56.3000],\n",
              "         [48.9000],\n",
              "         [33.9000],\n",
              "         [21.8000],\n",
              "         [48.4000],\n",
              "         [60.4000],\n",
              "         [68.4000]]))"
            ]
          },
          "metadata": {
            "tags": []
          },
          "execution_count": 2
        }
      ]
    },
    {
      "cell_type": "markdown",
      "metadata": {
        "id": "6VmqHwNGG56C",
        "colab_type": "text"
      },
      "source": [
        "Let's split our data into training and validation sets:"
      ]
    },
    {
      "cell_type": "code",
      "metadata": {
        "id": "ZcnT9y13Gr6U",
        "colab_type": "code",
        "colab": {
          "base_uri": "https://localhost:8080/",
          "height": 34
        },
        "outputId": "ef0c0ac5-17bc-415d-d0de-e8f9a1c1f800"
      },
      "source": [
        "n_samples = t_u.shape[0]\n",
        "n_val = int(0.2 * n_samples)\n",
        "\n",
        "shuffled_indices = torch.randperm(n_samples)\n",
        "\n",
        "train_indices = shuffled_indices[:-n_val]\n",
        "val_indices = shuffled_indices[-n_val:]\n",
        "\n",
        "t_u_train = t_u[train_indices]\n",
        "t_c_train = t_c[train_indices]\n",
        "\n",
        "t_u_val = t_u[val_indices]\n",
        "t_c_val = t_c[val_indices]\n",
        "\n",
        "train_indices, val_indices"
      ],
      "execution_count": 3,
      "outputs": [
        {
          "output_type": "execute_result",
          "data": {
            "text/plain": [
              "(tensor([ 8,  5,  1,  3, 10,  6,  0,  2,  4]), tensor([7, 9]))"
            ]
          },
          "metadata": {
            "tags": []
          },
          "execution_count": 3
        }
      ]
    },
    {
      "cell_type": "markdown",
      "metadata": {
        "id": "R_M86tzcHP9V",
        "colab_type": "text"
      },
      "source": [
        "And then normalize them: "
      ]
    },
    {
      "cell_type": "code",
      "metadata": {
        "id": "eU01TjDkHNXw",
        "colab_type": "code",
        "colab": {}
      },
      "source": [
        "t_un_train = 0.1 * t_u_train\n",
        "t_un_val = 0.1 * t_u_val"
      ],
      "execution_count": 4,
      "outputs": []
    },
    {
      "cell_type": "markdown",
      "metadata": {
        "id": "hfQwyIRhHWYB",
        "colab_type": "text"
      },
      "source": [
        "Let’s update our training code. First, we replace our handmade model with `nn.Linear(1,1)`, and then we need to pass the linear model parameters to the optimizer:"
      ]
    },
    {
      "cell_type": "code",
      "metadata": {
        "id": "ftdoQRIfHR_g",
        "colab_type": "code",
        "colab": {}
      },
      "source": [
        "linear_model = nn.Linear(1, 1) #input size = 1, output size = 1, bias defaults to True\n",
        "optimizer = optim.SGD(linear_model.parameters(), lr=1e-2)"
      ],
      "execution_count": 5,
      "outputs": []
    },
    {
      "cell_type": "markdown",
      "metadata": {
        "id": "DbVk9Bg-KKDn",
        "colab_type": "text"
      },
      "source": [
        "The arguments for `nn.Linear` refer to number of features. In this case it refers to the size of the input and the output tensor for the module, so 1 and 1.\n",
        "\n",
        "If we used both temperature and barometric pressure as input, for instance, we would have two features in input and one feature in output. As we will see, for more complex models with several intermediate modules, the number of features will be associated with the capacity of the model.\n",
        "\n",
        "\n",
        "We have an instance of `nn.Linear` with one input and one output feature. That only requires one weight and one bias:"
      ]
    },
    {
      "cell_type": "code",
      "metadata": {
        "id": "CvgjOpH7Kni6",
        "colab_type": "code",
        "colab": {
          "base_uri": "https://localhost:8080/",
          "height": 51
        },
        "outputId": "5ad73687-c54f-433f-bef5-fe2856b47462"
      },
      "source": [
        "linear_model(t_un_val)"
      ],
      "execution_count": 7,
      "outputs": [
        {
          "output_type": "execute_result",
          "data": {
            "text/plain": [
              "tensor([[-0.9103],\n",
              "        [-3.6124]], grad_fn=<AddmmBackward>)"
            ]
          },
          "metadata": {
            "tags": []
          },
          "execution_count": 7
        }
      ]
    },
    {
      "cell_type": "code",
      "metadata": {
        "id": "mqSv0fy_KtPU",
        "colab_type": "code",
        "colab": {
          "base_uri": "https://localhost:8080/",
          "height": 51
        },
        "outputId": "adfe545a-5819-4421-b50a-64d10215230a"
      },
      "source": [
        "linear_model.weight"
      ],
      "execution_count": 8,
      "outputs": [
        {
          "output_type": "execute_result",
          "data": {
            "text/plain": [
              "Parameter containing:\n",
              "tensor([[-0.7000]], requires_grad=True)"
            ]
          },
          "metadata": {
            "tags": []
          },
          "execution_count": 8
        }
      ]
    },
    {
      "cell_type": "code",
      "metadata": {
        "id": "G5l7YnOeKuOY",
        "colab_type": "code",
        "colab": {
          "base_uri": "https://localhost:8080/",
          "height": 51
        },
        "outputId": "623448b3-c6fd-42b2-c967-504008c88bef"
      },
      "source": [
        "linear_model.bias"
      ],
      "execution_count": 9,
      "outputs": [
        {
          "output_type": "execute_result",
          "data": {
            "text/plain": [
              "Parameter containing:\n",
              "tensor([0.6157], requires_grad=True)"
            ]
          },
          "metadata": {
            "tags": []
          },
          "execution_count": 9
        }
      ]
    },
    {
      "cell_type": "markdown",
      "metadata": {
        "id": "ifEzs4hPJIuK",
        "colab_type": "text"
      },
      "source": [
        "Earlier, it was our responsibility to create parameters and pass them as the first argument to `optim.SGD`. Now we can use the parameters method to ask any `nn.Module` for a list of parameters owned by it or any of its submodules:"
      ]
    },
    {
      "cell_type": "code",
      "metadata": {
        "id": "mUPl9MGoJIP0",
        "colab_type": "code",
        "colab": {
          "base_uri": "https://localhost:8080/",
          "height": 68
        },
        "outputId": "e2271abc-3092-4b92-ea70-09a69fae0620"
      },
      "source": [
        "list(linear_model.parameters())"
      ],
      "execution_count": 6,
      "outputs": [
        {
          "output_type": "execute_result",
          "data": {
            "text/plain": [
              "[Parameter containing:\n",
              " tensor([[-0.7000]], requires_grad=True), Parameter containing:\n",
              " tensor([0.6157], requires_grad=True)]"
            ]
          },
          "metadata": {
            "tags": []
          },
          "execution_count": 6
        }
      ]
    },
    {
      "cell_type": "markdown",
      "metadata": {
        "id": "qRldzeAaJSU6",
        "colab_type": "text"
      },
      "source": [
        "This call recurses into submodules defined in the module’s `init` constructor and returns a flat list of all parameters encountered, so that we can conveniently pass it to the optimizer constructor as we did previously.\n",
        "\n",
        "We can already figure out what happens in the training loop. The optimizer is provided with a list of tensors that were defined with `requires_grad = True` —all Parameters are defined this way by definition, since they need to be optimized by gradient descent. When `training_loss.backward()` is called, grad is accumulated on the leaf nodes of the graph, which are precisely the parameters that were passed to the optimizer.\n",
        "\n",
        "At this point, the SGD optimizer has everything it needs. When `optimizer.step()` is called, it will iterate through each Parameter and change it by an amount proportional to what is stored in its grad attribute.\n",
        "\n",
        "Let’s take a look a the training loop now:"
      ]
    },
    {
      "cell_type": "code",
      "metadata": {
        "id": "PuvR1_VFJO3r",
        "colab_type": "code",
        "colab": {}
      },
      "source": [
        "def training_loop(n_epochs, optimizer, model, loss_fn, t_u_train, t_u_val,\n",
        "                  t_c_train, t_c_val):\n",
        "    for epoch in range(1, n_epochs + 1):\n",
        "        t_p_train = model(t_u_train) # <1>\n",
        "        loss_train = loss_fn(t_p_train, t_c_train)\n",
        "\n",
        "        t_p_val = model(t_u_val) # <1>\n",
        "        loss_val = loss_fn(t_p_val, t_c_val)\n",
        "        \n",
        "        optimizer.zero_grad()\n",
        "        loss_train.backward() # <2>\n",
        "        optimizer.step()\n",
        "\n",
        "        if epoch == 1 or epoch % 200 == 0:\n",
        "            print(f\"Epoch {epoch}, Training loss {loss_train.item():.4f},\"\n",
        "                  f\" Validation loss {loss_val.item():.4f}\")"
      ],
      "execution_count": 71,
      "outputs": []
    },
    {
      "cell_type": "markdown",
      "metadata": {
        "id": "2HygFLryLaxV",
        "colab_type": "text"
      },
      "source": [
        "\n",
        "It hasn’t changed practically at all, except that now we don’t pass `params` explicitly to model since the model itself holds its `parameters` internally.\n",
        "\n",
        "There’s one last bit that we can leverage from `torch.nn`: the loss. Indeed, `nn` comes with several common loss functions, among them `nn.MSELoss` (MSE stands for Mean Square Error), which is exactly what we defined earlier as our `loss_fn`. Loss functions in `nn` are still subclasses of `nn.Module`, so we will create an instance and call it as a function. In our case, we get rid of the handwritten `loss_fn` and replace it:"
      ]
    },
    {
      "cell_type": "code",
      "metadata": {
        "id": "tXGx6HTNLXtQ",
        "colab_type": "code",
        "colab": {
          "base_uri": "https://localhost:8080/",
          "height": 170
        },
        "outputId": "13943bf3-963a-41bb-95e0-ae5fd8a3062b"
      },
      "source": [
        "linear_model = nn.Linear(1, 1)\n",
        "optimizer = optim.SGD(linear_model.parameters(), lr=1e-2)\n",
        "\n",
        "training_loop(\n",
        "    n_epochs = 3000, \n",
        "    optimizer = optimizer,\n",
        "    model = linear_model,\n",
        "    loss_fn = nn.MSELoss(), # using 'nn.MSELoss' instead of our handwritten 'loss_fn' function\n",
        "    t_u_train = t_un_train,\n",
        "    t_u_val = t_un_val, \n",
        "    t_c_train = t_c_train,\n",
        "    t_c_val = t_c_val)\n",
        "\n",
        "print()\n",
        "print(linear_model.weight)\n",
        "print(linear_model.bias)"
      ],
      "execution_count": 12,
      "outputs": [
        {
          "output_type": "stream",
          "text": [
            "Epoch 1, Training loss 127.4163, Validation loss 55.2923\n",
            "Epoch 1000, Training loss 4.3918, Validation loss 2.5228\n",
            "Epoch 2000, Training loss 2.6859, Validation loss 4.2292\n",
            "Epoch 3000, Training loss 2.5444, Validation loss 5.7846\n",
            "\n",
            "Parameter containing:\n",
            "tensor([[5.6503]], requires_grad=True)\n",
            "Parameter containing:\n",
            "tensor([-18.7512], requires_grad=True)\n"
          ],
          "name": "stdout"
        }
      ]
    },
    {
      "cell_type": "markdown",
      "metadata": {
        "id": "z3cu-a7wMT2Z",
        "colab_type": "text"
      },
      "source": [
        "We can compare this with our hand-written loss function:"
      ]
    },
    {
      "cell_type": "code",
      "metadata": {
        "id": "iLbdPocDMH2i",
        "colab_type": "code",
        "colab": {
          "base_uri": "https://localhost:8080/",
          "height": 170
        },
        "outputId": "53812f73-19a9-4ae6-82b9-87927acbb632"
      },
      "source": [
        "def loss_fn(t_p, t_c):\n",
        "    squared_diffs = (t_p - t_c)**2\n",
        "    return squared_diffs.mean()\n",
        "\n",
        "linear_model = nn.Linear(1, 1) \n",
        "optimizer = optim.SGD(linear_model.parameters(), lr=1e-2)\n",
        "\n",
        "training_loop(\n",
        "    n_epochs = 3000, \n",
        "    optimizer = optimizer,\n",
        "    model = linear_model,\n",
        "    loss_fn = loss_fn,\n",
        "    t_u_train = t_un_train,\n",
        "    t_u_val = t_un_val, \n",
        "    t_c_train = t_c_train,\n",
        "    t_c_val = t_c_val)\n",
        "\n",
        "print()\n",
        "print(linear_model.weight)\n",
        "print(linear_model.bias)"
      ],
      "execution_count": 13,
      "outputs": [
        {
          "output_type": "stream",
          "text": [
            "Epoch 1, Training loss 116.7941, Validation loss 52.1141\n",
            "Epoch 1000, Training loss 4.4677, Validation loss 2.5580\n",
            "Epoch 2000, Training loss 2.6922, Validation loss 4.1921\n",
            "Epoch 3000, Training loss 2.5449, Validation loss 5.7700\n",
            "\n",
            "Parameter containing:\n",
            "tensor([[5.6488]], requires_grad=True)\n",
            "Parameter containing:\n",
            "tensor([-18.7421], requires_grad=True)\n"
          ],
          "name": "stdout"
        }
      ]
    },
    {
      "cell_type": "markdown",
      "metadata": {
        "id": "s9Zw1iqdMsR4",
        "colab_type": "text"
      },
      "source": [
        "Everything else input into our training loop stays the same. Even our results remain the same as before. Of course, getting the same results is expected, as a difference would imply a bug in one of the two implementations."
      ]
    },
    {
      "cell_type": "markdown",
      "metadata": {
        "id": "Sj6Q9bp_NJEj",
        "colab_type": "text"
      },
      "source": [
        "## Finally a neural network\n",
        "\n",
        "There has been a lot to explore for these 20-something lines of code we require to define and train a model. Hopefully by now the magic involved in training has vanished and left room for the mechanics. What we learned so far will allow us to own the code we write instead of merely poking at a black box when things get more complicated.\n",
        "\n",
        "There’s one last step left to take: replacing our linear model with a neural network as our approximating function. We said earlier that using a neural network will not result in a higher-quality model, since the process underlying our calibration problem was fundamentally linear. However, it’s good to make the leap from linear to neural network in a controlled environment so we won’t feel lost later.\n",
        "\n",
        "### Replacing the linear model\n",
        "\n",
        "We are going to keep everything else fixed, including the loss function, and only redefine model. Let’s build the simplest possible neural network: a linear module, followed by an activation function, feeding into another linear module. The first linear + activation layer is commonly referred to as a hidden layer for historical reasons, since its outputs are not observed directly but fed into the output layer. While the input and output of the model are both of size 1 (they have one input and one output feature), the size of the output of the first linear module is usually larger than 1. Recalling our earlier explanation of the role of activations, this can lead different units to respond to different ranges of the input, which increases the capacity of our model. The last linear layer will take the output of activations and combine them linearly to produce the output value.\n",
        "\n",
        "`nn` provides a simple way to concatenate modules through the `nn.Sequential` container:"
      ]
    },
    {
      "cell_type": "code",
      "metadata": {
        "id": "4xti0Cd8MbEH",
        "colab_type": "code",
        "colab": {
          "base_uri": "https://localhost:8080/",
          "height": 102
        },
        "outputId": "40e61dd5-d3d8-4db0-cc81-b36936a8bc96"
      },
      "source": [
        "seq_model = nn.Sequential(\n",
        "            nn.Linear(1, 13), # We chose 13 arbitrarilty\n",
        "            nn.Tanh(),\n",
        "            nn.Linear(13, 1)) # This 13 must match the first nn.Linear size\n",
        "seq_model"
      ],
      "execution_count": 14,
      "outputs": [
        {
          "output_type": "execute_result",
          "data": {
            "text/plain": [
              "Sequential(\n",
              "  (0): Linear(in_features=1, out_features=13, bias=True)\n",
              "  (1): Tanh()\n",
              "  (2): Linear(in_features=13, out_features=1, bias=True)\n",
              ")"
            ]
          },
          "metadata": {
            "tags": []
          },
          "execution_count": 14
        }
      ]
    },
    {
      "cell_type": "markdown",
      "metadata": {
        "id": "kYCRwctkP2C-",
        "colab_type": "text"
      },
      "source": [
        "The end result is a model that takes the inputs expected by the first module specified as an argument of `nn.Sequential`, passes intermediate outputs to subsequent modules, and produces the output returned by the last module. The model fans out from 1 input feature to 13 hidden features, passes them through a `tanh` activation, and linearly combines the resulting 13 numbers into 1 output feature."
      ]
    },
    {
      "cell_type": "markdown",
      "metadata": {
        "id": "J_EDzka-VzXE",
        "colab_type": "text"
      },
      "source": [
        "### Inspecting the parameters\n",
        "\n",
        "Calling `model.parameters()` will collect weight and bias from both the first and second linear modules. It’s instructive to inspect the parameters in this case by printing their shapes:"
      ]
    },
    {
      "cell_type": "code",
      "metadata": {
        "id": "B44nf-RZPvVS",
        "colab_type": "code",
        "colab": {
          "base_uri": "https://localhost:8080/",
          "height": 34
        },
        "outputId": "49becc07-0ca4-4c64-d4e0-00975ace53ca"
      },
      "source": [
        "[param.shape for param in seq_model.parameters()]"
      ],
      "execution_count": 15,
      "outputs": [
        {
          "output_type": "execute_result",
          "data": {
            "text/plain": [
              "[torch.Size([13, 1]), torch.Size([13]), torch.Size([1, 13]), torch.Size([1])]"
            ]
          },
          "metadata": {
            "tags": []
          },
          "execution_count": 15
        }
      ]
    },
    {
      "cell_type": "markdown",
      "metadata": {
        "id": "5bmU1ZLuYD7j",
        "colab_type": "text"
      },
      "source": [
        "These are the tensors that the optimizer will get. Again, after we call `model.backward()`, all parameters are populated with their grad, and the optimizer then updates their values accordingly during the `optimizer.step()` call. Not that different from our previous linear model. After all, they’re both differentiable models that can be trained using gradient descent.\n",
        "\n",
        "A few notes on parameters of `nn.Modules`. When inspecting parameters of a model made up of several submodules, it is handy to be able to identify parameters by name. There’s a method for that, called `named_parameters`:\n"
      ]
    },
    {
      "cell_type": "code",
      "metadata": {
        "id": "AOr5LEeNV5Vp",
        "colab_type": "code",
        "colab": {
          "base_uri": "https://localhost:8080/",
          "height": 85
        },
        "outputId": "48d62f27-737e-40b1-dd5b-4c5c9fad5de5"
      },
      "source": [
        "for name, param in seq_model.named_parameters():\n",
        "  print(name, param.shape)"
      ],
      "execution_count": 16,
      "outputs": [
        {
          "output_type": "stream",
          "text": [
            "0.weight torch.Size([13, 1])\n",
            "0.bias torch.Size([13])\n",
            "2.weight torch.Size([1, 13])\n",
            "2.bias torch.Size([1])\n"
          ],
          "name": "stdout"
        }
      ]
    },
    {
      "cell_type": "markdown",
      "metadata": {
        "id": "sf1DrZ-NaD3B",
        "colab_type": "text"
      },
      "source": [
        "The name of each module in `Sequential` is just the ordinal with which the module appears in the arguments. Interestingly, `Sequential` also accepts an `OrderedDict`, in which we can name each module passed to `Sequential`:"
      ]
    },
    {
      "cell_type": "code",
      "metadata": {
        "id": "KiPAhO90Z6Yf",
        "colab_type": "code",
        "colab": {
          "base_uri": "https://localhost:8080/",
          "height": 102
        },
        "outputId": "7d226b9d-7b34-475a-b39a-d20621bdc025"
      },
      "source": [
        "from collections import OrderedDict\n",
        "\n",
        "seq_model = nn.Sequential(OrderedDict([\n",
        "    ('hidden_linear', nn.Linear(1, 8)),\n",
        "    ('hidden_activation', nn.Tanh()),\n",
        "    ('output_linear', nn.Linear(8, 1))\n",
        "]))\n",
        "\n",
        "seq_model"
      ],
      "execution_count": 17,
      "outputs": [
        {
          "output_type": "execute_result",
          "data": {
            "text/plain": [
              "Sequential(\n",
              "  (hidden_linear): Linear(in_features=1, out_features=8, bias=True)\n",
              "  (hidden_activation): Tanh()\n",
              "  (output_linear): Linear(in_features=8, out_features=1, bias=True)\n",
              ")"
            ]
          },
          "metadata": {
            "tags": []
          },
          "execution_count": 17
        }
      ]
    },
    {
      "cell_type": "markdown",
      "metadata": {
        "id": "Md0CAl28aSMq",
        "colab_type": "text"
      },
      "source": [
        "This allows us to get more explanatory names for submodules:"
      ]
    },
    {
      "cell_type": "code",
      "metadata": {
        "id": "vqkPQZ2eaMjN",
        "colab_type": "code",
        "colab": {
          "base_uri": "https://localhost:8080/",
          "height": 85
        },
        "outputId": "c5a11f9d-00d2-4c52-dcae-e95520fe5fbf"
      },
      "source": [
        "for name, param in seq_model.named_parameters():\n",
        "  print(name, param.shape)"
      ],
      "execution_count": 18,
      "outputs": [
        {
          "output_type": "stream",
          "text": [
            "hidden_linear.weight torch.Size([8, 1])\n",
            "hidden_linear.bias torch.Size([8])\n",
            "output_linear.weight torch.Size([1, 8])\n",
            "output_linear.bias torch.Size([1])\n"
          ],
          "name": "stdout"
        }
      ]
    },
    {
      "cell_type": "markdown",
      "metadata": {
        "id": "_88hHmaMaYNM",
        "colab_type": "text"
      },
      "source": [
        "This is more descriptive; but it does not give us more flexibility in the flow of data through the network, which remains a purely sequential pass-through—the `nn.Sequential` is very aptly named.\n",
        "\n",
        "We can also access a particular `Parameter` by using submodules as attributes:"
      ]
    },
    {
      "cell_type": "code",
      "metadata": {
        "id": "rXEWGxL-aUXE",
        "colab_type": "code",
        "colab": {
          "base_uri": "https://localhost:8080/",
          "height": 51
        },
        "outputId": "7e1c6b47-bc60-4029-8eac-02ed4ca2c4d3"
      },
      "source": [
        "seq_model.output_linear.bias"
      ],
      "execution_count": 19,
      "outputs": [
        {
          "output_type": "execute_result",
          "data": {
            "text/plain": [
              "Parameter containing:\n",
              "tensor([-0.2312], requires_grad=True)"
            ]
          },
          "metadata": {
            "tags": []
          },
          "execution_count": 19
        }
      ]
    },
    {
      "cell_type": "markdown",
      "metadata": {
        "id": "sP585SbFcmD4",
        "colab_type": "text"
      },
      "source": [
        "This is useful for inspecting parameters or their gradients: for instance, to monitor gradients during training, as we did at the beginning of this chapter. Say we want to print out the gradients of `weight` of the linear portion of the hidden layer. We can run the training loop for the new neural network model and then look at the resulting gradients after the last epoch:"
      ]
    },
    {
      "cell_type": "code",
      "metadata": {
        "id": "QMyCsMkVatOg",
        "colab_type": "code",
        "colab": {
          "base_uri": "https://localhost:8080/",
          "height": 323
        },
        "outputId": "972333d2-acad-4d3e-c3e7-96d963a75afe"
      },
      "source": [
        "optimizer = optim.SGD(seq_model.parameters(), lr=1e-3) # <1>\n",
        "\n",
        "training_loop(\n",
        "    n_epochs = 5000, \n",
        "    optimizer = optimizer,\n",
        "    model = seq_model,\n",
        "    loss_fn = nn.MSELoss(),\n",
        "    t_u_train = t_un_train,\n",
        "    t_u_val = t_un_val, \n",
        "    t_c_train = t_c_train,\n",
        "    t_c_val = t_c_val)\n",
        "    \n",
        "print('output', seq_model(t_un_val))\n",
        "print('answer', t_c_val)\n",
        "print('hidden', seq_model.hidden_linear.weight.grad)"
      ],
      "execution_count": 20,
      "outputs": [
        {
          "output_type": "stream",
          "text": [
            "Epoch 1, Training loss 225.5926, Validation loss 99.5733\n",
            "Epoch 1000, Training loss 5.9963, Validation loss 4.0949\n",
            "Epoch 2000, Training loss 4.0698, Validation loss 0.7043\n",
            "Epoch 3000, Training loss 2.2201, Validation loss 1.7946\n",
            "Epoch 4000, Training loss 1.8895, Validation loss 2.8877\n",
            "Epoch 5000, Training loss 1.7467, Validation loss 3.8601\n",
            "output tensor([[-2.0701],\n",
            "        [16.5229]], grad_fn=<AddmmBackward>)\n",
            "answer tensor([[-4.],\n",
            "        [13.]])\n",
            "hidden tensor([[  0.0876],\n",
            "        [ 16.9464],\n",
            "        [-15.4176],\n",
            "        [ 15.3623],\n",
            "        [ -6.5988],\n",
            "        [ 12.7281],\n",
            "        [ -0.1300],\n",
            "        [  0.1504]])\n"
          ],
          "name": "stdout"
        }
      ]
    },
    {
      "cell_type": "markdown",
      "metadata": {
        "id": "OtQCA9bWc0yX",
        "colab_type": "text"
      },
      "source": [
        "## Comparing to the linear model\n",
        "\n",
        "We can also evaluate the model on all of the data and see how it differs from a line:"
      ]
    },
    {
      "cell_type": "code",
      "metadata": {
        "id": "Eqp4xDS7cu_n",
        "colab_type": "code",
        "colab": {
          "base_uri": "https://localhost:8080/",
          "height": 279
        },
        "outputId": "3eda3725-04d4-4f0e-a3ba-bd1f5c2941c9"
      },
      "source": [
        "from matplotlib import pyplot as plt\n",
        "\n",
        "\n",
        "def plot():\n",
        "  t_range = torch.arange(20., 90.).unsqueeze(1)\n",
        "\n",
        "  #fig = plt.figure(dpi=600)\n",
        "  plt.xlabel(\"Fahrenheit\")\n",
        "  plt.ylabel(\"Celsius\")\n",
        "  plt.plot(t_u.numpy(), t_c.numpy(), 'o')\n",
        "  plt.plot(t_range.numpy(), seq_model(0.1 * t_range).detach().numpy(), 'c-')\n",
        "  plt.plot(t_u.numpy(), seq_model(0.1 * t_u).detach().numpy(), 'kx')\n",
        "\n",
        "plot()"
      ],
      "execution_count": 22,
      "outputs": [
        {
          "output_type": "display_data",
          "data": {
            "image/png": "[encoded data removed]",
            "text/plain": [
              "<Figure size 432x288 with 1 Axes>"
            ]
          },
          "metadata": {
            "tags": [],
            "needs_background": "light"
          }
        }
      ]
    },
    {
      "cell_type": "markdown",
      "metadata": {
        "id": "OCRuoV50dG6u",
        "colab_type": "text"
      },
      "source": [
        "# Conclusion\n",
        "\n",
        "We dissected building differentiable models and training them using gradient descent, first using raw `autograd` and then relying on `nn`. By now you should have confidence in your understanding of what’s going on behind the scenes."
      ]
    },
    {
      "cell_type": "markdown",
      "metadata": {
        "id": "6H8NH7fjeI9b",
        "colab_type": "text"
      },
      "source": [
        "# Exercises\n",
        "\n",
        "1. Experiment with the number of hidden neurons in our simple neural network model, as well as the learning rate.\n",
        "\n",
        "a. What changes result in more linear output from the model?\n",
        "\n",
        "Increasing the number of hidden neurons results in a more linear output from the model."
      ]
    },
    {
      "cell_type": "code",
      "metadata": {
        "id": "2QqIgiIdgfKy",
        "colab_type": "code",
        "colab": {
          "base_uri": "https://localhost:8080/",
          "height": 381
        },
        "outputId": "20dedefb-6203-4918-95be-7f5238629060"
      },
      "source": [
        "seq_model = nn.Sequential(OrderedDict([\n",
        "    ('hidden_linear', nn.Linear(1, 100)),\n",
        "    ('hidden_activation', nn.Tanh()),\n",
        "    ('output_linear', nn.Linear(100, 1))\n",
        "]))\n",
        "\n",
        "optimizer = optim.SGD(seq_model.parameters(), lr=1e-3) # <1>\n",
        "\n",
        "training_loop(\n",
        "    n_epochs = 5000, \n",
        "    optimizer = optimizer,\n",
        "    model = seq_model,\n",
        "    loss_fn = nn.MSELoss(),\n",
        "    t_u_train = t_un_train,\n",
        "    t_u_val = t_un_val, \n",
        "    t_c_train = t_c_train,\n",
        "    t_c_val = t_c_val)\n",
        "    \n",
        "plot()"
      ],
      "execution_count": 27,
      "outputs": [
        {
          "output_type": "stream",
          "text": [
            "Epoch 1, Training loss 216.2910, Validation loss 95.8322\n",
            "Epoch 1000, Training loss 2.7702, Validation loss 5.4287\n",
            "Epoch 2000, Training loss 2.2200, Validation loss 4.1335\n",
            "Epoch 3000, Training loss 2.3960, Validation loss 2.2642\n",
            "Epoch 4000, Training loss 2.2058, Validation loss 2.0102\n",
            "Epoch 5000, Training loss 2.0546, Validation loss 2.0028\n"
          ],
          "name": "stdout"
        },
        {
          "output_type": "display_data",
          "data": {
            "image/png": "[encoded data removed]",
            "text/plain": [
              "<Figure size 432x288 with 1 Axes>"
            ]
          },
          "metadata": {
            "tags": [],
            "needs_background": "light"
          }
        }
      ]
    },
    {
      "cell_type": "markdown",
      "metadata": {
        "id": "8tPcsEL3hmWV",
        "colab_type": "text"
      },
      "source": [
        "or, you can get a more linear output by using `LeakyRelu` instead of `Tanh`"
      ]
    },
    {
      "cell_type": "code",
      "metadata": {
        "id": "SSeD-ET7hpJL",
        "colab_type": "code",
        "colab": {
          "base_uri": "https://localhost:8080/",
          "height": 381
        },
        "outputId": "4ae2b929-a2ca-4cea-92d5-b535033e6262"
      },
      "source": [
        "seq_model = nn.Sequential(OrderedDict([\n",
        "    ('hidden_linear', nn.Linear(1, 8)),\n",
        "    ('hidden_activation', nn.LeakyReLU()),\n",
        "    ('output_linear', nn.Linear(8, 1))\n",
        "]))\n",
        "\n",
        "optimizer = optim.SGD(seq_model.parameters(), lr=1e-3)\n",
        "\n",
        "training_loop(\n",
        "    n_epochs = 5000, \n",
        "    optimizer = optimizer,\n",
        "    model = seq_model,\n",
        "    loss_fn = nn.MSELoss(),\n",
        "    t_u_train = t_un_train,\n",
        "    t_u_val = t_un_val, \n",
        "    t_c_train = t_c_train,\n",
        "    t_c_val = t_c_val)\n",
        "    \n",
        "plot()"
      ],
      "execution_count": 37,
      "outputs": [
        {
          "output_type": "stream",
          "text": [
            "Epoch 1, Training loss 164.0024, Validation loss 72.8315\n",
            "Epoch 1000, Training loss 3.8056, Validation loss 2.5397\n",
            "Epoch 2000, Training loss 2.2959, Validation loss 5.0475\n",
            "Epoch 3000, Training loss 2.2483, Validation loss 4.9856\n",
            "Epoch 4000, Training loss 2.1948, Validation loss 4.6934\n",
            "Epoch 5000, Training loss 2.1366, Validation loss 4.3721\n"
          ],
          "name": "stdout"
        },
        {
          "output_type": "display_data",
          "data": {
            "image/png": "[encoded data removed]",
            "text/plain": [
              "<Figure size 432x288 with 1 Axes>"
            ]
          },
          "metadata": {
            "tags": [],
            "needs_background": "light"
          }
        }
      ]
    },
    {
      "cell_type": "markdown",
      "metadata": {
        "id": "7_Yq0bYrgckO",
        "colab_type": "text"
      },
      "source": [
        "b. Can you get the model to obviously overfit the data?\n",
        "\n",
        "You can get the model to obviously overfit the data by increasing the number of layers/submodules in the neural network."
      ]
    },
    {
      "cell_type": "code",
      "metadata": {
        "id": "t33irWYyc-jN",
        "colab_type": "code",
        "colab": {
          "base_uri": "https://localhost:8080/",
          "height": 381
        },
        "outputId": "1bee2118-2d39-4795-d197-4fc6125d8e96"
      },
      "source": [
        "seq_model = nn.Sequential(OrderedDict([\n",
        "    ('hidden_linear', nn.Linear(1, 10)),\n",
        "    ('hidden_activation', nn.Tanh()),\n",
        "    ('hidden_linear_2', nn.Linear(10, 10)),\n",
        "    ('hidden_activation_2', nn.Tanh()),\n",
        "    ('hidden_linear_3', nn.Linear(10, 10)),\n",
        "    ('hidden_activation_3', nn.Tanh()),\n",
        "    ('output_linear', nn.Linear(10, 1))\n",
        "]))\n",
        "\n",
        "optimizer = optim.SGD(seq_model.parameters(), lr=1e-3)\n",
        "\n",
        "training_loop(\n",
        "    n_epochs = 5000, \n",
        "    optimizer = optimizer,\n",
        "    model = seq_model,\n",
        "    loss_fn = nn.MSELoss(),\n",
        "    t_u_train = t_un_train,\n",
        "    t_u_val = t_un_val, \n",
        "    t_c_train = t_c_train,\n",
        "    t_c_val = t_c_val)\n",
        "    \n",
        "plot()"
      ],
      "execution_count": 30,
      "outputs": [
        {
          "output_type": "stream",
          "text": [
            "Epoch 1, Training loss 211.2102, Validation loss 93.6685\n",
            "Epoch 1000, Training loss 26.1424, Validation loss 23.7577\n",
            "Epoch 2000, Training loss 4.9504, Validation loss 11.5759\n",
            "Epoch 3000, Training loss 3.9039, Validation loss 11.8518\n",
            "Epoch 4000, Training loss 1.9410, Validation loss 11.9297\n",
            "Epoch 5000, Training loss 1.4222, Validation loss 13.2829\n"
          ],
          "name": "stdout"
        },
        {
          "output_type": "display_data",
          "data": {
            "image/png": "[encoded data removed]",
            "text/plain": [
              "<Figure size 432x288 with 1 Axes>"
            ]
          },
          "metadata": {
            "tags": [],
            "needs_background": "light"
          }
        }
      ]
    },
    {
      "cell_type": "markdown",
      "metadata": {
        "id": "LWek_zp2j8tT",
        "colab_type": "text"
      },
      "source": [
        "or, by using `Hardtanh`"
      ]
    },
    {
      "cell_type": "code",
      "metadata": {
        "id": "DQppfE3cj6uy",
        "colab_type": "code",
        "colab": {
          "base_uri": "https://localhost:8080/",
          "height": 381
        },
        "outputId": "195f252d-9e7e-4d07-ae44-22ca7e9a3d6a"
      },
      "source": [
        "seq_model = nn.Sequential(OrderedDict([\n",
        "    ('hidden_linear', nn.Linear(1, 8)),\n",
        "    ('hidden_activation', nn.Hardtanh()),\n",
        "    ('output_linear', nn.Linear(8, 1))\n",
        "]))\n",
        "\n",
        "optimizer = optim.SGD(seq_model.parameters(), lr=1e-3)\n",
        "\n",
        "training_loop(\n",
        "    n_epochs = 5000, \n",
        "    optimizer = optimizer,\n",
        "    model = seq_model,\n",
        "    loss_fn = nn.MSELoss(),\n",
        "    t_u_train = t_un_train,\n",
        "    t_u_val = t_un_val, \n",
        "    t_c_train = t_c_train,\n",
        "    t_c_val = t_c_val)\n",
        "    \n",
        "plot()"
      ],
      "execution_count": 39,
      "outputs": [
        {
          "output_type": "stream",
          "text": [
            "Epoch 1, Training loss 207.7009, Validation loss 92.5585\n",
            "Epoch 1000, Training loss 6.2906, Validation loss 28.5730\n",
            "Epoch 2000, Training loss 2.1190, Validation loss 27.8360\n",
            "Epoch 3000, Training loss 5.2007, Validation loss 20.6244\n",
            "Epoch 4000, Training loss 1.8503, Validation loss 20.6437\n",
            "Epoch 5000, Training loss 1.5349, Validation loss 25.4582\n"
          ],
          "name": "stdout"
        },
        {
          "output_type": "display_data",
          "data": {
            "image/png": "[encoded data removed]",
            "text/plain": [
              "<Figure size 432x288 with 1 Axes>"
            ]
          },
          "metadata": {
            "tags": [],
            "needs_background": "light"
          }
        }
      ]
    },
    {
      "cell_type": "markdown",
      "metadata": {
        "id": "GqlkzG5Dk5p5",
        "colab_type": "text"
      },
      "source": [
        "2. The third-hardest problem in physics is finding a proper wine to celebrate discoveries. Load the wine data from chapter 4, and create a new model with the appropriate number of input parameters."
      ]
    },
    {
      "cell_type": "code",
      "metadata": {
        "id": "lrwD2ByJnEP3",
        "colab_type": "code",
        "colab": {
          "base_uri": "https://localhost:8080/",
          "height": 136
        },
        "outputId": "e5904eea-61b5-4150-80ce-e09f51ca9c23"
      },
      "source": [
        "import csv\n",
        "wine_path = \"/content/winequality-white.csv\"\n",
        "wineq_numpy = np.loadtxt(wine_path, dtype=np.float32, delimiter=\";\",\n",
        "                         skiprows=1)\n",
        "wineq_numpy"
      ],
      "execution_count": 40,
      "outputs": [
        {
          "output_type": "execute_result",
          "data": {
            "text/plain": [
              "array([[ 7.  ,  0.27,  0.36, ...,  0.45,  8.8 ,  6.  ],\n",
              "       [ 6.3 ,  0.3 ,  0.34, ...,  0.49,  9.5 ,  6.  ],\n",
              "       [ 8.1 ,  0.28,  0.4 , ...,  0.44, 10.1 ,  6.  ],\n",
              "       ...,\n",
              "       [ 6.5 ,  0.24,  0.19, ...,  0.46,  9.4 ,  6.  ],\n",
              "       [ 5.5 ,  0.29,  0.3 , ...,  0.38, 12.8 ,  7.  ],\n",
              "       [ 6.  ,  0.21,  0.38, ...,  0.32, 11.8 ,  6.  ]], dtype=float32)"
            ]
          },
          "metadata": {
            "tags": []
          },
          "execution_count": 40
        }
      ]
    },
    {
      "cell_type": "code",
      "metadata": {
        "id": "GAjyZTOFf1nC",
        "colab_type": "code",
        "colab": {
          "base_uri": "https://localhost:8080/",
          "height": 34
        },
        "outputId": "a35a50df-6485-4745-e860-542cefcc6fdb"
      },
      "source": [
        "wineq = torch.from_numpy(wineq_numpy)\n",
        "\n",
        "wineq.shape, wineq.dtype"
      ],
      "execution_count": 41,
      "outputs": [
        {
          "output_type": "execute_result",
          "data": {
            "text/plain": [
              "(torch.Size([4898, 12]), torch.float32)"
            ]
          },
          "metadata": {
            "tags": []
          },
          "execution_count": 41
        }
      ]
    },
    {
      "cell_type": "code",
      "metadata": {
        "id": "1Um0qvLqo49f",
        "colab_type": "code",
        "colab": {
          "base_uri": "https://localhost:8080/",
          "height": 34
        },
        "outputId": "f7ef41a3-bc23-476e-db14-3ad3dcb989e1"
      },
      "source": [
        "data = wineq[:, :-1] #wine data without last quality label\n",
        "target = wineq[:, -1].float() #quality label - the target\n",
        "\n",
        "#target_onehot = torch.zeros(target.shape[0], 10)\n",
        "#target_onehot.scatter_(1, target.unsqueeze(1), 1.0)\n",
        "\n",
        "target.unsqueeze_(1) \n",
        "\n",
        "data.shape, target.shape, target.dtype"
      ],
      "execution_count": 61,
      "outputs": [
        {
          "output_type": "execute_result",
          "data": {
            "text/plain": [
              "(torch.Size([4898, 11]), torch.Size([4898, 1]), torch.float32)"
            ]
          },
          "metadata": {
            "tags": []
          },
          "execution_count": 61
        }
      ]
    },
    {
      "cell_type": "markdown",
      "metadata": {
        "id": "v7Kqdh8vqTzA",
        "colab_type": "text"
      },
      "source": [
        "Let's split our wine data into training and validation sets: "
      ]
    },
    {
      "cell_type": "code",
      "metadata": {
        "id": "qbL3r0LxrLtO",
        "colab_type": "code",
        "colab": {
          "base_uri": "https://localhost:8080/",
          "height": 85
        },
        "outputId": "7b2a3424-3647-4af8-8d80-a769456fd076"
      },
      "source": [
        "n_samples = data.shape[0]\n",
        "n_val = int(0.2 * n_samples)#validation is 20% of the total set\n",
        "\n",
        "shuffled_indices = torch.randperm(n_samples)\n",
        "\n",
        "train_indices = shuffled_indices[:-n_val]\n",
        "val_indices = shuffled_indices[-n_val:]\n",
        "\n",
        "data_train = data[train_indices]\n",
        "target_train = target[train_indices]\n",
        "\n",
        "data_val = data[val_indices]\n",
        "target_val = target[val_indices]\n",
        "\n",
        "data_train.shape, data_val.shape, target_train.shape, target_val.shape"
      ],
      "execution_count": 63,
      "outputs": [
        {
          "output_type": "execute_result",
          "data": {
            "text/plain": [
              "(torch.Size([3919, 11]),\n",
              " torch.Size([979, 11]),\n",
              " torch.Size([3919, 1]),\n",
              " torch.Size([979, 1]))"
            ]
          },
          "metadata": {
            "tags": []
          },
          "execution_count": 63
        }
      ]
    },
    {
      "cell_type": "markdown",
      "metadata": {
        "id": "01Kr6V87nqHB",
        "colab_type": "text"
      },
      "source": [
        "There are 3919 samples with 11 features each. Therefore, our neural network needs 11 inputs."
      ]
    },
    {
      "cell_type": "code",
      "metadata": {
        "id": "wc6DFTo4nlYp",
        "colab_type": "code",
        "colab": {
          "base_uri": "https://localhost:8080/",
          "height": 459
        },
        "outputId": "6cabf5e1-1feb-416a-ee05-be0acead6e75"
      },
      "source": [
        "wine_model = nn.Sequential(OrderedDict([\n",
        "    ('hidden_linear', nn.Linear(11, 20)),\n",
        "    ('hidden_activation', nn.Tanh()),\n",
        "    ('output_linear', nn.Linear(20, 1))\n",
        "]))\n",
        "\n",
        "optimizer = optim.Adam(wine_model.parameters(), lr=1e-3) # <1>\n",
        "\n",
        "training_loop(\n",
        "    n_epochs = 5000, \n",
        "    optimizer = optimizer,\n",
        "    model = wine_model,\n",
        "    loss_fn = nn.MSELoss(),\n",
        "    t_u_train = data_train,\n",
        "    t_u_val = data_val, \n",
        "    t_c_train = target_train,\n",
        "    t_c_val = target_val)\n"
      ],
      "execution_count": 73,
      "outputs": [
        {
          "output_type": "stream",
          "text": [
            "Epoch 1, Training loss 38.3504, Validation loss 38.2654\n",
            "Epoch 200, Training loss 3.2920, Validation loss 3.2869\n",
            "Epoch 400, Training loss 0.8727, Validation loss 0.8967\n",
            "Epoch 600, Training loss 0.7498, Validation loss 0.7707\n",
            "Epoch 800, Training loss 0.7206, Validation loss 0.7316\n",
            "Epoch 1000, Training loss 0.6243, Validation loss 0.6318\n",
            "Epoch 1200, Training loss 0.5882, Validation loss 0.5886\n",
            "Epoch 1400, Training loss 0.5751, Validation loss 0.5767\n",
            "Epoch 1600, Training loss 0.5654, Validation loss 0.5674\n",
            "Epoch 1800, Training loss 0.5574, Validation loss 0.5537\n",
            "Epoch 2000, Training loss 0.5461, Validation loss 0.5386\n",
            "Epoch 2200, Training loss 0.5410, Validation loss 0.5335\n",
            "Epoch 2400, Training loss 0.5374, Validation loss 0.5295\n",
            "Epoch 2600, Training loss 0.5342, Validation loss 0.5262\n",
            "Epoch 2800, Training loss 0.5312, Validation loss 0.5217\n",
            "Epoch 3000, Training loss 0.5290, Validation loss 0.5250\n",
            "Epoch 3200, Training loss 0.5275, Validation loss 0.5245\n",
            "Epoch 3400, Training loss 0.5262, Validation loss 0.5242\n",
            "Epoch 3600, Training loss 0.5247, Validation loss 0.5245\n",
            "Epoch 3800, Training loss 0.5235, Validation loss 0.5225\n",
            "Epoch 4000, Training loss 0.5224, Validation loss 0.5217\n",
            "Epoch 4200, Training loss 0.5214, Validation loss 0.5212\n",
            "Epoch 4400, Training loss 0.5205, Validation loss 0.5208\n",
            "Epoch 4600, Training loss 0.5195, Validation loss 0.5206\n",
            "Epoch 4800, Training loss 0.5185, Validation loss 0.5205\n",
            "Epoch 5000, Training loss 0.5176, Validation loss 0.5204\n"
          ],
          "name": "stdout"
        }
      ]
    },
    {
      "cell_type": "markdown",
      "metadata": {
        "id": "f06vD4f8-1pV",
        "colab_type": "text"
      },
      "source": [
        "# Summary\n",
        "\n",
        "- Neural networks can be automatically adapted to specialize themselves on the problem at hand.\n",
        "- Neural networks allow easy access to the analytical derivatives of the loss with respect to any parameter in the model, which makes evolving the parameters very efficient. Thanks to its automated differentiation engine, PyTorch provides such derivatives effortlessly.\n",
        "- Activation functions around linear transformations make neural networks capable of approximating highly nonlinear functions, at the same time keeping them simple enough to optimize.\n",
        "- The `nn` module together with the tensor standard library provide all the building blocks for creating neural networks.\n",
        "- To recognize overfitting, it’s essential to maintain the training set of data points separate from the validation set. There’s no one recipe to combat overfitting, but getting more data, or more variability in the data, and resorting to simpler models are good starts.\n",
        "- Anyone doing data science should be plotting data all the time."
      ]
    }
  ]
}